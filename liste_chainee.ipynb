{
 "cells": [
  {
   "cell_type": "markdown",
   "metadata": {},
   "source": [
    "# Maillon et liste chaînée\n",
    "\n",
    "L'idée des listes chaînées est d'utiliser des maillons reliés les uns aux autres.\n",
    "Pour pouvoir constituer une liste, il suffit d'avoir des maillons comportant chacun\n",
    "un élément (le contenu du maillon) et un lien vers le maillon suivant."
   ]
  },
  {
   "cell_type": "code",
   "execution_count": null,
   "metadata": {},
   "outputs": [],
   "source": [
    "## Classe Maillon\n",
    "\n",
    "Compléter le code la classe Maillon :"
   ]
  },
  {
   "cell_type": "code",
   "execution_count": null,
   "metadata": {},
   "outputs": [],
   "source": [
    "class Maillon:\n",
    "    pass"
   ]
  },
  {
   "cell_type": "code",
   "execution_count": null,
   "metadata": {},
   "outputs": [],
   "source": [
    "une_chaine = Maillon(1)\n",
    "une_chaine.suivant = "
   ]
  },
  {
   "cell_type": "markdown",
   "metadata": {},
   "source": [
    "Écrire une fonction qui calcule la longueur d'une chaîne :"
   ]
  },
  {
   "cell_type": "code",
   "execution_count": null,
   "metadata": {},
   "outputs": [],
   "source": [
    "def longueur(chaine):\n",
    "    \"\"\"Renvoie la longueur d'une chaîne (le nombre de maillons) \"\"\"\n",
    "    pass"
   ]
  },
  {
   "cell_type": "markdown",
   "metadata": {},
   "source": [
    "Écrire une fonction qui affiche successivement tous les éléments d'une chaîne."
   ]
  },
  {
   "cell_type": "code",
   "execution_count": null,
   "metadata": {},
   "outputs": [],
   "source": [
    "def affiche(chaine):\n",
    "    \"\"\"Affiche tous les éléments de la chaine\"\"\"\n",
    "    pass"
   ]
  },
  {
   "cell_type": "markdown",
   "metadata": {},
   "source": [
    "## Classe Liste_chainee\n",
    "\n",
    "Avec ce qui précède, une chaîne créée possède nécessairement un élément Maillon.\n",
    "On ne peut pas construire une chaîne vide (dont on connaît l'intérêt).\n",
    "\n",
    "D'où l'intérêt de la liste chaînée qui va permettre une liste vide.\n",
    "\n",
    "### Attributs\n",
    "Un seul qui va désigner le début de notre liste chaînée.\n",
    "On l'appelle `premier`, il vaut `None` (liste vide) ou est un objet `Maillon`.\n",
    "\n",
    "### Méthodes\n",
    "- création d'une liste vide (constructeur)\n",
    "- ajout d'un élément en tête/ en queue / en position i\n",
    "- accès à l'élément en tête / en queue / en position i\n",
    "- modification de l'élément en tête / en queue / en position i\n",
    "- suppression en tête / en queue / en position i\n",
    "- longueur\n",
    "- concaténation de deux listes\n",
    "\n",
    "On a donc besoin d'utiliser, si nécessaire, la classe `Maillon`."
   ]
  },
  {
   "cell_type": "markdown",
   "metadata": {},
   "source": [
    "Compléter le code suivant :"
   ]
  },
  {
   "cell_type": "code",
   "execution_count": null,
   "metadata": {},
   "outputs": [],
   "source": [
    "class Liste_chainee():\n",
    "    def __init__(self):\n",
    "        \"\"\"Initialise une liste vide.\"\"\"\n",
    "        pass\n",
    "        \n",
    "    def __len__(self):\n",
    "        \"\"\"Renvoie le nombre d'éléments présents dans la liste.\"\"\"\n",
    "        pass\n",
    "    \n",
    "    def ajoute_en_tete(self, element):\n",
    "        \"\"\"Insère elem en tête de liste en créant un nouveau maillon\"\"\"\n",
    "        pass\n",
    "        \n",
    "    def supprime_en_tete(self):\n",
    "        \"\"\"Supprime l'élément en tête et retourne ce dernier\"\"\"\n",
    "        pass\n",
    "    \n",
    "    def ieme_element(self, i):\n",
    "        \"\"\"accès au contenu du i-ème élément\"\"\"\n",
    "        pass"
   ]
  },
  {
   "cell_type": "markdown",
   "metadata": {},
   "source": [
    "Pour les plus rapides et ceux qui veulent aller plus loin, compléter le code précédent avec les méthodes de la question 4 de l'exercice."
   ]
  }
 ],
 "metadata": {
  "kernelspec": {
   "display_name": "Python 3",
   "language": "python",
   "name": "python3"
  },
  "language_info": {
   "codemirror_mode": {
    "name": "ipython",
    "version": 3
   },
   "file_extension": ".py",
   "mimetype": "text/x-python",
   "name": "python",
   "nbconvert_exporter": "python",
   "pygments_lexer": "ipython3",
   "version": "3.8.5"
  },
  "name": "liste_chainee.ipynb"
 },
 "nbformat": 4,
 "nbformat_minor": 4
}
