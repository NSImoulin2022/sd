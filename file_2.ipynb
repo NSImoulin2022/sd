{
 "cells": [
  {
   "cell_type": "markdown",
   "metadata": {},
   "source": [
    "# Implémentation de la structure de données File en utilisant la classe Liste_chainee\n",
    "\n",
    "## Recopier ci-dessous votre code de classe Liste_chainee pui exécuter le.\n",
    "\n",
    "_Remarque_ dans un autre cadre que celui de l'utilisation de `jupyter` avec `mybinder.org`, il suffirait d'exécuter : `import liste_chainee` ou une autre instruction d'importation"
   ]
  },
  {
   "cell_type": "code",
   "execution_count": null,
   "metadata": {},
   "outputs": [],
   "source": []
  },
  {
   "cell_type": "markdown",
   "metadata": {},
   "source": [
    "## Compléter le code ci-dessous pour implémenter la structure File"
   ]
  },
  {
   "cell_type": "code",
   "execution_count": 2,
   "metadata": {},
   "outputs": [],
   "source": [
    "class File:\n",
    "    def __init__(self):\n",
    "        pass\n",
    "    \n",
    "    def __len__(self):\n",
    "        pass\n",
    "    \n",
    "    def premier(self):\n",
    "        pass\n",
    "    \n",
    "    def enfiler(self, element):\n",
    "        pass\n",
    "    \n",
    "    def defiler(self):\n",
    "        pass"
   ]
  },
  {
   "cell_type": "markdown",
   "metadata": {},
   "source": [
    "## Tester le code avec le pseudo-code du cours"
   ]
  },
  {
   "cell_type": "code",
   "execution_count": null,
   "metadata": {},
   "outputs": [],
   "source": []
  }
 ],
 "metadata": {
  "kernelspec": {
   "display_name": "Python 3",
   "language": "python",
   "name": "python3"
  },
  "language_info": {
   "codemirror_mode": {
    "name": "ipython",
    "version": 3
   },
   "file_extension": ".py",
   "mimetype": "text/x-python",
   "name": "python",
   "nbconvert_exporter": "python",
   "pygments_lexer": "ipython3",
   "version": "3.8.5"
  }
 },
 "nbformat": 4,
 "nbformat_minor": 4
}
