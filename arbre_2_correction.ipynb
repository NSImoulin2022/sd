{
 "cells": [
  {
   "cell_type": "markdown",
   "metadata": {},
   "source": [
    "# Arbre\n",
    "\n",
    "### Activité 2\n",
    "\n",
    "On peut implémenter un arbre sous la forme de **listes d'adjacence** (de voisins) : chaque noeud liste simplement ses descendants directs. L'ensemble peut-être représenté par un dictionnaire mais il n'y a plus d'imbrication.\n",
    "\n",
    "On reprend la famille `Weasley`:\n",
    "![](weasley_family_tree_by_ooruh-d57qqiq.jpg)\n",
    "et on reconstruit l'arbre de descendance de Molly, on fait attention aux éventuels doublons en les nommant différemment (en suffixant avec 1 et 2 par exemple) :"
   ]
  },
  {
   "cell_type": "code",
   "execution_count": 1,
   "metadata": {},
   "outputs": [],
   "source": [
    "descendance_molly = {\n",
    "    \"molly\": [\"ginny\", \"percy\", \"charlie\", \"fred1\", \"george\", \"ron\", \"bill\"],\n",
    "    \"ginny\": [\"james\", \"albus\", \"lily\"],\n",
    "    \"percy\": [\"lucy\", \"moly\"],\n",
    "    \"george\": [\"roxanne\", \"fred2\"],\n",
    "    \"ron\": [\"rose\", \"hugo\"],\n",
    "    \"bill\": [\"victorie\", \"dominique\", \"louis\"]\n",
    "}"
   ]
  },
  {
   "cell_type": "markdown",
   "metadata": {},
   "source": [
    "Compléter alors le **parcours** suivant qui se propose à partir d'un dictionnaire et d'une clé de parcourir la descendance du personnage représenté par la clé."
   ]
  },
  {
   "cell_type": "code",
   "execution_count": 2,
   "metadata": {},
   "outputs": [
    {
     "name": "stdout",
     "output_type": "stream",
     "text": [
      "ginny\n",
      "james\n",
      "albus\n",
      "lily\n",
      "percy\n",
      "lucy\n",
      "moly\n",
      "charlie\n",
      "fred1\n",
      "george\n",
      "roxanne\n",
      "fred2\n",
      "ron\n",
      "rose\n",
      "hugo\n",
      "bill\n",
      "victorie\n",
      "dominique\n",
      "louis\n"
     ]
    }
   ],
   "source": [
    "def parcours(dico, cle_de_depart):\n",
    "    for personnage in dico[cle_de_depart]:\n",
    "        print(personnage)\n",
    "        if personnage in dico:\n",
    "            parcours(dico, personnage)\n",
    "\n",
    "parcours(descendance_molly, \"molly\")"
   ]
  },
  {
   "cell_type": "markdown",
   "metadata": {},
   "source": [
    "Calculons maintenant la **hauteur** de l'arbre. Compléter le code ci-dessous :"
   ]
  },
  {
   "cell_type": "code",
   "execution_count": 3,
   "metadata": {},
   "outputs": [
    {
     "data": {
      "text/plain": [
       "3"
      ]
     },
     "execution_count": 3,
     "metadata": {},
     "output_type": "execute_result"
    }
   ],
   "source": [
    "def hauteur(dico, cle_de_depart):\n",
    "    if cle_de_depart not in dico: return 1\n",
    "    liste_sous_hauteurs = [hauteur(dico, personnage) for personnage in dico[cle_de_depart]]\n",
    "    return 1 + max(liste_sous_hauteurs)\n",
    "\n",
    "hauteur(descendance_molly, \"molly\")"
   ]
  },
  {
   "cell_type": "markdown",
   "metadata": {},
   "source": [
    "**<u>Pour ceux qui ont terminés</u>**\n",
    "Cette façon de faire avec des listes d'adjacence permet de décrire simplement les voisins d'un noeud, on réinvestira cette façon de faire pour modéliser un _graphe_ comme celui-ci :\n",
    "![](graphe.png)\n",
    "Propose un dictionnaire de listes pour ce graphe :"
   ]
  },
  {
   "cell_type": "code",
   "execution_count": 4,
   "metadata": {},
   "outputs": [],
   "source": [
    "graphe = {\n",
    "    \"Louise\": [\"Elliot\"],\n",
    "    \"Elliot\": [\"Louise\", \"Mathilde\", \"Tatiana\", \"Mihretu\"],\n",
    "    \"Mathilde\": [\"Arthur\", \"Tatiana\", \"Elliot\"],\n",
    "    \"Arthur\": [\"Mathilde\", \"Anna\"],\n",
    "    \"Anna\": [\"Arthur\"],\n",
    "    \"Tatiana\": [\"Mathilde\", \"Elliot\", \"Mihretu\"],\n",
    "    \"Mihretu\": [\"Elliot\", \"Tatiana\"]\n",
    "}"
   ]
  },
  {
   "cell_type": "markdown",
   "metadata": {},
   "source": [
    "Auteur : David COBAC\n",
    "\n",
    "Licence CC-BY-NC-SA"
   ]
  }
 ],
 "metadata": {
  "kernelspec": {
   "display_name": "Python 3",
   "language": "python",
   "name": "python3"
  },
  "language_info": {
   "codemirror_mode": {
    "name": "ipython",
    "version": 3
   },
   "file_extension": ".py",
   "mimetype": "text/x-python",
   "name": "python",
   "nbconvert_exporter": "python",
   "pygments_lexer": "ipython3",
   "version": "3.9.1+"
  }
 },
 "nbformat": 4,
 "nbformat_minor": 4
}
