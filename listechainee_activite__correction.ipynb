{
 "cells": [
  {
   "cell_type": "markdown",
   "metadata": {},
   "source": [
    "# Exercice liste chainee"
   ]
  },
  {
   "cell_type": "markdown",
   "metadata": {},
   "source": [
    "Compléter les méthodes `ajoute_en_tete` et `ajoute_en_queue` :"
   ]
  },
  {
   "cell_type": "code",
   "execution_count": 7,
   "metadata": {},
   "outputs": [],
   "source": [
    "class Maillon:\n",
    "    def __init__(self, contenu, suivant):\n",
    "        self.contenu = contenu\n",
    "        self.suivant = suivant\n",
    "\n",
    "class Liste_Chainee:\n",
    "    def __init__(self):\n",
    "        self.premier = None\n",
    "    \n",
    "    def ajoute_en_tete(self, contenu):\n",
    "        \"\"\"Ajoute le contenu sous forme d'un maillon au \n",
    "        début de la liste chaînée\n",
    "        \"\"\"\n",
    "        \n",
    "        self.premier = Maillon(contenu, self.premier)\n",
    "        \n",
    "    def ajoute_en_queue(self, contenu):\n",
    "        \"\"\"Ajoute le contenu sous forme d'un maillon à \n",
    "        la fin de la liste chaînée\n",
    "        \"\"\"\n",
    "        \n",
    "        if self.premier is None:\n",
    "            self.ajoute_en_tete(contenu)\n",
    "        else:\n",
    "            actuel = self.premier\n",
    "            while actuel.suivant:\n",
    "                actuel = actuel.suivant\n",
    "            actuel.suivant = Maillon(contenu, None)"
   ]
  },
  {
   "cell_type": "markdown",
   "metadata": {},
   "source": [
    "On instancie ci-dessous notre classe :"
   ]
  },
  {
   "cell_type": "code",
   "execution_count": 8,
   "metadata": {},
   "outputs": [],
   "source": [
    "r = range(10)\n",
    "\n",
    "lc, lc2 = Liste_Chainee(), Liste_Chainee()\n",
    "\n",
    "for i in r:\n",
    "    lc.ajoute_en_tete(i)\n",
    "    lc2.ajoute_en_queue(i)"
   ]
  },
  {
   "cell_type": "markdown",
   "metadata": {},
   "source": [
    "On se propose de créer une fonction qui affiche sous forme d'une liste Pyhton les éléments contenus dans la liste chaînée. Complétez-la puis vérifiez avec les instances créées précédemment."
   ]
  },
  {
   "cell_type": "code",
   "execution_count": 9,
   "metadata": {},
   "outputs": [],
   "source": [
    "def liste_contenus(listec):\n",
    "    maillon = listec.premier\n",
    "    ma_liste = []\n",
    "    while maillon is not None:\n",
    "        ma_liste.append(maillon.contenu)\n",
    "        maillon = maillon.suivant\n",
    "    return ma_liste"
   ]
  },
  {
   "cell_type": "code",
   "execution_count": 10,
   "metadata": {},
   "outputs": [
    {
     "data": {
      "text/plain": [
       "[9, 8, 7, 6, 5, 4, 3, 2, 1, 0]"
      ]
     },
     "execution_count": 10,
     "metadata": {},
     "output_type": "execute_result"
    }
   ],
   "source": [
    "liste_contenus(lc)"
   ]
  },
  {
   "cell_type": "code",
   "execution_count": 11,
   "metadata": {},
   "outputs": [
    {
     "data": {
      "text/plain": [
       "[0, 1, 2, 3, 4, 5, 6, 7, 8, 9]"
      ]
     },
     "execution_count": 11,
     "metadata": {},
     "output_type": "execute_result"
    }
   ],
   "source": [
    "liste_contenus(lc2)"
   ]
  },
  {
   "cell_type": "code",
   "execution_count": null,
   "metadata": {},
   "outputs": [],
   "source": []
  }
 ],
 "metadata": {
  "kernelspec": {
   "display_name": "Python 3",
   "language": "python",
   "name": "python3"
  },
  "language_info": {
   "codemirror_mode": {
    "name": "ipython",
    "version": 3
   },
   "file_extension": ".py",
   "mimetype": "text/x-python",
   "name": "python",
   "nbconvert_exporter": "python",
   "pygments_lexer": "ipython3",
   "version": "3.9.8"
  }
 },
 "nbformat": 4,
 "nbformat_minor": 4
}
