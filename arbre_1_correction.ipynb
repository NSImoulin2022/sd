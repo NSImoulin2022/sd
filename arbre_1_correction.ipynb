{
 "cells": [
  {
   "cell_type": "markdown",
   "metadata": {},
   "source": [
    "# Arbre\n",
    "\n",
    "Un arbre est une structure de données hiérarchique contenant des noeuds. Dans la terminologie informatique, on utilise les termes de `feuille` pour les informations élémentaires, de `noeud` pour chaque embranchement de l'arbre, et de `racine` pour le noeud principal."
   ]
  },
  {
   "cell_type": "markdown",
   "metadata": {},
   "source": [
    "## Implémentations\n",
    "\n",
    "Un objet de type noeud d'arbre (voir cours) est une structure contenant une valeur (ou pas) et des liens vers les noeuds descendants."
   ]
  },
  {
   "cell_type": "markdown",
   "metadata": {},
   "source": [
    "### Activité 1 : un dictionnaire\n",
    "À partir de l'image ci-dessous :\n",
    "![](weasley_family_tree_by_ooruh-d57qqiq.jpg)\n",
    "proposer, sous la forme de dictionnaires imbriqués, l'arbre de descendance de `Molly Weasley`(celle en haut de l'image) :\n",
    "Pour ce faire, compléter le dictionnaire commencé :"
   ]
  },
  {
   "cell_type": "code",
   "execution_count": 1,
   "metadata": {},
   "outputs": [],
   "source": [
    "descendance_molly = {\n",
    "    \"molly\": {\n",
    "        \"ginny\": {\"james\": {}, \"albus\": {}, \"lily\":{}},\n",
    "        \"percy\": {\"lucy\": {}, \"molly\": {}},\n",
    "        \"charlie\": {},\n",
    "        \"fred\": {},\n",
    "        \"george\": {\"roxanne\": {}, \"fred\": {}},\n",
    "        \"ron\": {\"rose\": {}, \"hugo\": {}},\n",
    "        \"bill\": {\"victorie\": {}, \"dominique\": {}, \"louis\":{}}\n",
    "    }\n",
    "}"
   ]
  },
  {
   "cell_type": "markdown",
   "metadata": {},
   "source": [
    "On souhaite **parcourir** l'ensemble des personnages contenues dans ce dictionnaire. Compléter le parcours récursif suivant :"
   ]
  },
  {
   "cell_type": "code",
   "execution_count": 2,
   "metadata": {},
   "outputs": [],
   "source": [
    "def parcours(dico):\n",
    "    if not dico: return\n",
    "    for k in dico:\n",
    "        print(k)\n",
    "        parcours(dico[k])"
   ]
  },
  {
   "cell_type": "code",
   "execution_count": 3,
   "metadata": {},
   "outputs": [
    {
     "name": "stdout",
     "output_type": "stream",
     "text": [
      "molly\n",
      "ginny\n",
      "james\n",
      "albus\n",
      "lily\n",
      "percy\n",
      "lucy\n",
      "molly\n",
      "charlie\n",
      "fred\n",
      "george\n",
      "roxanne\n",
      "fred\n",
      "ron\n",
      "rose\n",
      "hugo\n",
      "bill\n",
      "victorie\n",
      "dominique\n",
      "louis\n"
     ]
    }
   ],
   "source": [
    "parcours(descendance_molly)"
   ]
  },
  {
   "cell_type": "markdown",
   "metadata": {},
   "source": [
    "On veut **améliorer l'affichage** pour mieux différencier parents et enfants.\n",
    "On va donc inclure une variable (potentiellement optionnelle) de **profondeur**, compléter le code suivant :"
   ]
  },
  {
   "cell_type": "code",
   "execution_count": 4,
   "metadata": {},
   "outputs": [
    {
     "name": "stdout",
     "output_type": "stream",
     "text": [
      "molly\n",
      "\tginny\n",
      "\t\tjames\n",
      "\t\talbus\n",
      "\t\tlily\n",
      "\tpercy\n",
      "\t\tlucy\n",
      "\t\tmolly\n",
      "\tcharlie\n",
      "\tfred\n",
      "\tgeorge\n",
      "\t\troxanne\n",
      "\t\tfred\n",
      "\tron\n",
      "\t\trose\n",
      "\t\thugo\n",
      "\tbill\n",
      "\t\tvictorie\n",
      "\t\tdominique\n",
      "\t\tlouis\n"
     ]
    }
   ],
   "source": [
    "def parcours(dico, profondeur):\n",
    "    if not dico: return\n",
    "    for k in dico:\n",
    "        s = \"\\t\" * profondeur + k\n",
    "        print(s)\n",
    "        parcours(dico[k], profondeur + 1)\n",
    "\n",
    "parcours(descendance_molly, 0)"
   ]
  },
  {
   "cell_type": "markdown",
   "metadata": {},
   "source": [
    "Calculons la **hauteur** de l'arbre en prenant en compte toutes ses profondeurs, compléter le code suivant :"
   ]
  },
  {
   "cell_type": "code",
   "execution_count": 5,
   "metadata": {},
   "outputs": [
    {
     "data": {
      "text/plain": [
       "3"
      ]
     },
     "execution_count": 5,
     "metadata": {},
     "output_type": "execute_result"
    }
   ],
   "source": [
    "def hauteur(dico):\n",
    "    if not dico: return 0\n",
    "    liste_sous_hauteurs = [hauteur(dico[k]) for k in dico]\n",
    "    return 1 + max(liste_sous_hauteurs)\n",
    "\n",
    "hauteur(descendance_molly)"
   ]
  },
  {
   "cell_type": "markdown",
   "metadata": {},
   "source": [
    "Auteur : David COBAC\n",
    "Licence CC-BY-NC-SA"
   ]
  },
  {
   "cell_type": "code",
   "execution_count": null,
   "metadata": {},
   "outputs": [],
   "source": []
  }
 ],
 "metadata": {
  "kernelspec": {
   "display_name": "Python 3",
   "language": "python",
   "name": "python3"
  },
  "language_info": {
   "codemirror_mode": {
    "name": "ipython",
    "version": 3
   },
   "file_extension": ".py",
   "mimetype": "text/x-python",
   "name": "python",
   "nbconvert_exporter": "python",
   "pygments_lexer": "ipython3",
   "version": "3.9.1"
  }
 },
 "nbformat": 4,
 "nbformat_minor": 4
}
