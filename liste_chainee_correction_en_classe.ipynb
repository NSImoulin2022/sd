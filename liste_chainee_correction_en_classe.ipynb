{
 "cells": [
  {
   "cell_type": "markdown",
   "metadata": {},
   "source": [
    "# Maillon et liste chaînée\n",
    "\n",
    "L'idée des listes chaînées est d'utiliser des maillons reliés les uns aux autres.\n",
    "Pour pouvoir constituer une liste, il suffit d'avoir des maillons comportant chacun\n",
    "un élément (le contenu du maillon) et un lien vers le maillon suivant."
   ]
  },
  {
   "cell_type": "code",
   "execution_count": null,
   "metadata": {},
   "outputs": [],
   "source": [
    "## Classe Maillon\n",
    "\n",
    "Compléter le code la classe Maillon :"
   ]
  },
  {
   "cell_type": "code",
   "execution_count": 1,
   "metadata": {},
   "outputs": [],
   "source": [
    "class Maillon:\n",
    "    def __init__(self, element, suivant=None):\n",
    "        # assert suivant is None or isinstance(suivant, Maillon)\n",
    "        \n",
    "        self.element = element\n",
    "        self.suivant = suivant"
   ]
  },
  {
   "cell_type": "code",
   "execution_count": 4,
   "metadata": {},
   "outputs": [],
   "source": [
    "une_chaine = Maillon(1)\n",
    "une_chaine.suivant = Maillon(2)\n",
    "# ou alors quelque chose du type\n",
    "une_chaine = Maillon(1, Maillon(2, Maillon(3)))"
   ]
  },
  {
   "cell_type": "markdown",
   "metadata": {},
   "source": [
    "Écrire une fonction qui calcule la longueur d'une chaîne :"
   ]
  },
  {
   "cell_type": "code",
   "execution_count": 7,
   "metadata": {},
   "outputs": [
    {
     "data": {
      "text/plain": [
       "3"
      ]
     },
     "execution_count": 7,
     "metadata": {},
     "output_type": "execute_result"
    }
   ],
   "source": [
    "def longueur(chaine):\n",
    "    \"\"\"Renvoie la longueur d'une chaîne (le nombre de maillons) \"\"\"\n",
    "    \n",
    "    actuel = chaine\n",
    "    compteur = 1\n",
    "    \n",
    "    while actuel.suivant is not None:\n",
    "        compteur += 1\n",
    "        actuel = actuel.suivant\n",
    "    \n",
    "    return compteur \n",
    "\n",
    "longueur(une_chaine)"
   ]
  },
  {
   "cell_type": "markdown",
   "metadata": {},
   "source": [
    "Écrire une fonction qui affiche successivement tous les éléments d'une chaîne."
   ]
  },
  {
   "cell_type": "code",
   "execution_count": 11,
   "metadata": {},
   "outputs": [
    {
     "name": "stdout",
     "output_type": "stream",
     "text": [
      "{1, 2, 3}\n"
     ]
    }
   ],
   "source": [
    "def affiche(chaine):\n",
    "    \"\"\"Affiche tous les éléments de la chaine\"\"\"\n",
    "    \n",
    "    actuel = chaine\n",
    "    ma_chaine = \"{\"\n",
    "    for _ in range(longueur(chaine)):\n",
    "        ma_chaine += str(actuel.element)\n",
    "        if actuel.suivant is not None:\n",
    "            ma_chaine += ', '\n",
    "        actuel = actuel.suivant\n",
    "    ma_chaine += \"}\"\n",
    "    print(ma_chaine)\n",
    "\n",
    "    \n",
    "affiche(une_chaine)"
   ]
  },
  {
   "cell_type": "markdown",
   "metadata": {},
   "source": [
    "## Classe Liste_chainee\n",
    "\n",
    "Avec ce qui précède, une chaîne créée possède nécessairement un élément Maillon.\n",
    "On ne peut pas construire une chaîne vide (dont on connaît l'intérêt).\n",
    "\n",
    "D'où l'intérêt de la liste chaînée qui va permettre une liste vide.\n",
    "\n",
    "### Attributs\n",
    "Un seul qui va désigner le début de notre liste chaînée.\n",
    "On l'appelle `premier`, il vaut `None` (liste vide) ou est un objet `Maillon`.\n",
    "\n",
    "### Méthodes\n",
    "- création d'une liste vide (constructeur)\n",
    "- ajout d'un élément en tête/ en queue / en position i\n",
    "- accès à l'élément en tête / en queue / en position i\n",
    "- modification de l'élément en tête / en queue / en position i\n",
    "- suppression en tête / en queue / en position i\n",
    "- longueur\n",
    "- concaténation de deux listes\n",
    "\n",
    "On a donc besoin d'utiliser, si nécessaire, la classe `Maillon`."
   ]
  },
  {
   "cell_type": "markdown",
   "metadata": {},
   "source": [
    "Compléter le code suivant :"
   ]
  },
  {
   "cell_type": "code",
   "execution_count": 18,
   "metadata": {},
   "outputs": [
    {
     "name": "stdout",
     "output_type": "stream",
     "text": [
      "[1, 8, 7, 9, 4, 6, 5, 0, 2, 3]\n"
     ]
    }
   ],
   "source": [
    "import random\n",
    "\n",
    "\n",
    "class Liste_chainee():\n",
    "    def __init__(self):\n",
    "        \"\"\"Initialise une liste vide.\"\"\"\n",
    "        \n",
    "        self.premier = None\n",
    "        \n",
    "    def __len__(self):\n",
    "        \"\"\"Renvoie le nombre d'éléments présents dans la liste.\"\"\"\n",
    "        \n",
    "        actuel = self.premier\n",
    "        compteur = 0\n",
    "        \n",
    "        while actuel is not None:\n",
    "            compteur += 1\n",
    "            actuel = actuel.suivant\n",
    "        \n",
    "        return compteur\n",
    "    \n",
    "    def ajoute_en_tete(self, element):\n",
    "        \"\"\"Insère element en tête de liste en créant un nouveau maillon\"\"\"\n",
    "        \n",
    "        self.premier = Maillon(element, self.premier)\n",
    "        \n",
    "    def supprime_en_tete(self):\n",
    "        \"\"\"Supprime l'élément en tête et retourne ce dernier\"\"\"\n",
    "        \n",
    "        if self.premier is not None:\n",
    "            poubelle = self.premier\n",
    "            self.premier = self.premier.suivant\n",
    "            del poubelle\n",
    "    \n",
    "    def ieme_element(self, i):\n",
    "        \"\"\"accès au contenu du i-ème élément\"\"\"\n",
    "        \n",
    "        assert\n",
    "        actuel = self.premier\n",
    "        \n",
    "        for _ in range(i - 1):\n",
    "            actuel = actuel.suivant\n",
    "        \n",
    "        return actuel.element\n",
    "\n",
    "\n",
    "lc = Liste_chainee()\n",
    "\n",
    "aleatoire = list(range(10))\n",
    "random.shuffle(aleatoire)\n",
    "# affichage dans l'ordre de la liste chainee\n",
    "print(aleatoire[::-1])\n",
    "\n",
    "for v in aleatoire:\n",
    "    lc.ajoute_en_tete(v)\n",
    "\n",
    "# le 3ème élement doit être le 3ème dans la liste à l'envers\n",
    "lc.ieme_element(3) == aleatoire[-3]"
   ]
  },
  {
   "cell_type": "markdown",
   "metadata": {},
   "source": [
    "Pour les plus rapides et ceux qui veulent aller plus loin, compléter le code précédent avec les méthodes de la question 4 de l'exercice."
   ]
  }
 ],
 "metadata": {
  "kernelspec": {
   "display_name": "Python 3",
   "language": "python",
   "name": "python3"
  },
  "language_info": {
   "codemirror_mode": {
    "name": "ipython",
    "version": 3
   },
   "file_extension": ".py",
   "mimetype": "text/x-python",
   "name": "python",
   "nbconvert_exporter": "python",
   "pygments_lexer": "ipython3",
   "version": "3.9.8"
  },
  "name": "liste_chainee.ipynb"
 },
 "nbformat": 4,
 "nbformat_minor": 4
}
