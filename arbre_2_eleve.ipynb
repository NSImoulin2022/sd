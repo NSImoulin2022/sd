{
 "cells": [
  {
   "cell_type": "markdown",
   "metadata": {},
   "source": [
    "# Arbre\n",
    "\n",
    "### Activité 2\n",
    "\n",
    "On peut implémenter un arbre sous la forme de **listes d'adjacence** (de voisins) : chaque noeud liste simplement ses descendants directs. L'ensemble peut-être représenté par un dictionnaire mais il n'y a plus d'imbrication.\n",
    "\n",
    "On reprend la famille `Weasley`:\n",
    "![](http://cobac.free.fr/weasley_family_tree_by_ooruh-d57qqiq.jpg)\n",
    "et on reconstruit l'arbre de descendance de Molly, on fait attention aux éventuels doublons en les nommant différemment (en suffixant avec 1 et 2 par exemple) :"
   ]
  },
  {
   "cell_type": "code",
   "execution_count": null,
   "metadata": {},
   "outputs": [],
   "source": [
    "descendance_molly = {\n",
    "    \"molly\": [\"ginny\", # à compléter\n",
    "}"
   ]
  },
  {
   "cell_type": "markdown",
   "metadata": {},
   "source": [
    "Compléter alors le **parcours** suivant qui se propose à partir d'un dictionnaire et d'une clé de parcourir la descendance du personnage représenté par la clé."
   ]
  },
  {
   "cell_type": "code",
   "execution_count": null,
   "metadata": {},
   "outputs": [],
   "source": [
    "def parcours(dico, cle_de_depart):\n",
    "    for personnage in # à compléter\n",
    "    \n",
    "        if personnage in dico:\n",
    "            # à compléter\n",
    "\n",
    "parcours(descendance_molly, \"molly\")"
   ]
  },
  {
   "cell_type": "markdown",
   "metadata": {},
   "source": [
    "Calculons maintenant la **hauteur** de l'arbre. Compléter le code ci-dessous :"
   ]
  },
  {
   "cell_type": "code",
   "execution_count": null,
   "metadata": {},
   "outputs": [],
   "source": [
    "def hauteur(dico, cle_de_depart):\n",
    "    if cle_de_depart not in dico: # à compléter\n",
    "\n",
    "hauteur(descendance_molly, \"molly\")"
   ]
  },
  {
   "cell_type": "markdown",
   "metadata": {},
   "source": [
    "**<u>Pour ceux qui ont terminés</u>**\n",
    "Cette façon de faire avec des listes d'adjacence permet de décrire simplement les voisins d'un noeud, on réinvestira cette façon de faire pour modéliser un _graphe_ comme celui-ci :\n",
    "![](http://cobac.free.fr/graphe.png)\n",
    "Propose un dictionnaire de listes pour ce graphe :"
   ]
  },
  {
   "cell_type": "code",
   "execution_count": null,
   "metadata": {},
   "outputs": [],
   "source": [
    "graphe = {\n",
    "    # à compléter\n",
    "}"
   ]
  },
  {
   "cell_type": "markdown",
   "metadata": {},
   "source": [
    "Auteur : David COBAC\n",
    "\n",
    "Licence CC-BY-NC-SA"
   ]
  }
 ],
 "metadata": {
  "kernelspec": {
   "display_name": "Python 3",
   "language": "python",
   "name": "python3"
  },
  "language_info": {
   "codemirror_mode": {
    "name": "ipython",
    "version": 3
   },
   "file_extension": ".py",
   "mimetype": "text/x-python",
   "name": "python",
   "nbconvert_exporter": "python",
   "pygments_lexer": "ipython3",
   "version": "3.9.9"
  }
 },
 "nbformat": 4,
 "nbformat_minor": 4
}
