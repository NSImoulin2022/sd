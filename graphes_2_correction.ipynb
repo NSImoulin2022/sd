{
 "cells": [
  {
   "cell_type": "markdown",
   "metadata": {},
   "source": [
    "# Les parcours\n",
    "\n",
    "On se propose ici de parcourir les graphes non-orientés d'abord en profondeur puis en largeur. Les algorithmes que nous écrirons devront permettre d’explorer un graphe au départ de n’importe quel sommet.\n",
    "\n",
    "Lors du parcours, on peut évidemment (un chemin d'un sommet à un autre peut ne pas être unique) retomber sur un sommet déjà visité. Pour éviter une exploration qui ne terminerait jamais, on \"marque\" les sommets visités pour éviter de les ré-explorer.\n",
    "\n",
    "Dans ce document, on ne se préoccupe pas de l'ordre dans lequel les voisins d'un sommet sont examinés.\n",
    "\n",
    "Dans ce document, on choisit comme implémentation la dernière réalisée:"
   ]
  },
  {
   "cell_type": "code",
   "execution_count": 2,
   "metadata": {},
   "outputs": [],
   "source": [
    "class Graphe:\n",
    "    def __init__(self, sommets):\n",
    "        self.sommets = sommets\n",
    "        self._adjacence = {}\n",
    "        \n",
    "    def ajouter_arete(self, sommet_1, sommet_2):\n",
    "        if sommet_1 in self._adjacence:\n",
    "            self._adjacence[sommet_1].add(sommet_2)\n",
    "        else:\n",
    "            self._adjacence[sommet_1] = {sommet_2}\n",
    "        \n",
    "        if sommet_2 in self._adjacence:\n",
    "            self._adjacence[sommet_2].add(sommet_1)\n",
    "        else:\n",
    "            self._adjacence[sommet_2] = {sommet_1}\n",
    "    \n",
    "    def voisins(self, sommet):\n",
    "        if not sommet in self.sommets:\n",
    "            return None\n",
    "        else:\n",
    "            return self._adjacence[sommet]"
   ]
  },
  {
   "cell_type": "markdown",
   "metadata": {},
   "source": [
    "On utilise toujours le même graphe (celui de l'exercice d'aquariophilie)\n",
    "\n",
    "![](graphviz3.png)\n",
    "\n",
    "On dispose de ce graphe sous la forme d'un dictionnaire :"
   ]
  },
  {
   "cell_type": "code",
   "execution_count": 4,
   "metadata": {},
   "outputs": [],
   "source": [
    "incompatibilites = {\n",
    "    \"A\": [\"B\", \"C\", \"D\", \"G\", \"H\"],\n",
    "    \"B\": [\"A\", \"E\", \"F\", \"G\"],\n",
    "    \"C\": [\"A\", \"D\", \"F\", \"G\", \"H\"],\n",
    "    \"D\": [\"A\", \"C\", \"E\", \"H\"],\n",
    "    \"E\": [\"B\", \"D\", \"F\", \"G\"],\n",
    "    \"F\": [\"B\", \"C\", \"E\"],\n",
    "    \"G\": [\"A\", \"B\", \"C\", \"E\"],\n",
    "    \"H\": [\"A\", \"C\", \"D\"]\n",
    "}"
   ]
  },
  {
   "cell_type": "markdown",
   "metadata": {},
   "source": [
    "Avant d'explorer par des parcours, on crée un objet `Graphe` qui rend compte de ce dictionnaire d'incompatibilités :"
   ]
  },
  {
   "cell_type": "code",
   "execution_count": 8,
   "metadata": {},
   "outputs": [
    {
     "data": {
      "text/plain": [
       "{'B', 'C', 'D', 'G', 'H'}"
      ]
     },
     "execution_count": 8,
     "metadata": {},
     "output_type": "execute_result"
    }
   ],
   "source": [
    "G = Graphe(incompatibilites.keys())\n",
    "\n",
    "for poisson in incompatibilites:\n",
    "    for voisin in incompatibilites[poisson]:\n",
    "        G.ajouter_arete(poisson, voisin)\n",
    "\n",
    "G.voisins('A')"
   ]
  },
  {
   "cell_type": "markdown",
   "metadata": {},
   "source": [
    "## Parcours en profondeur\n",
    "\n",
    "Principe de l'algorithme :\n",
    " - on crée une pile\n",
    " - on démarre d'un sommet qu'on empile\n",
    " - on le dépile et on le marque comme \"visité\"\n",
    " - on empile les sommets adjacents\n",
    " - tant que la pile n'est pas vide, on dépile (un sommet), on empile les sommets adjacents qui n'ont pas déjà été visités"
   ]
  },
  {
   "cell_type": "code",
   "execution_count": 32,
   "metadata": {},
   "outputs": [],
   "source": [
    "class Pile:\n",
    "    def __init__(self):\n",
    "        self._pile = []\n",
    "        \n",
    "    def empiler(self, element):\n",
    "        self._pile.append(element)\n",
    "        \n",
    "    def depiler(self):\n",
    "        if self._pile:\n",
    "            return self._pile.pop()\n",
    "        \n",
    "    def est_vide(self):\n",
    "        return self._pile == []"
   ]
  },
  {
   "cell_type": "code",
   "execution_count": 36,
   "metadata": {},
   "outputs": [
    {
     "name": "stdout",
     "output_type": "stream",
     "text": [
      "A\n",
      "D\n",
      "C\n",
      "H\n",
      "G\n",
      "B\n",
      "F\n",
      "E\n"
     ]
    }
   ],
   "source": [
    "def parcours_prof_v1(graphe, sommet_depart):\n",
    "    sommets_visites = set()\n",
    "    p = Pile()\n",
    "    p.empiler(sommet_depart)\n",
    "    while not p.est_vide():\n",
    "        s = p.depiler()\n",
    "        if s not in sommets_visites:\n",
    "            print(s)\n",
    "            sommets_visites.add(s)\n",
    "            for v in graphe.voisins(s):\n",
    "                if v not in sommets_visites:\n",
    "                    p.empiler(v)\n",
    "        \n",
    "        \n",
    "parcours_prof_v1(G, 'A')"
   ]
  },
  {
   "cell_type": "code",
   "execution_count": 38,
   "metadata": {},
   "outputs": [
    {
     "name": "stdout",
     "output_type": "stream",
     "text": [
      "A\n",
      "B\n",
      "F\n",
      "H\n",
      "C\n",
      "G\n",
      "E\n"
     ]
    }
   ],
   "source": [
    "def parcours_prof_v2(graphe, sommet_depart):\n",
    "    sommets_visites = set()\n",
    "    p = Pile()\n",
    "    p.empiler(sommet_depart)\n",
    "    while not p.est_vide():\n",
    "        s = p.depiler()\n",
    "        if s not in sommets_visites:\n",
    "            print(s)\n",
    "            sommets_visites.add(s)\n",
    "            for v in graphe.voisins(s):\n",
    "                p.empiler(v)\n",
    "        s = p.depiler()\n",
    "        \n",
    "parcours_prof_v2(G, 'A')"
   ]
  },
  {
   "cell_type": "code",
   "execution_count": 39,
   "metadata": {},
   "outputs": [
    {
     "name": "stdout",
     "output_type": "stream",
     "text": [
      "A\n",
      "D\n",
      "E\n",
      "F\n",
      "B\n",
      "H\n",
      "C\n",
      "G\n"
     ]
    }
   ],
   "source": [
    "def parcours_prof_v3(graphe, sommet_depart):\n",
    "    sommets_visites = []\n",
    "    p = Pile()\n",
    "    s = sommet_depart\n",
    "    while s is not None:\n",
    "        print(s)\n",
    "        sommets_visites.append(s)\n",
    "        for v in graphe.voisins(s):\n",
    "            if v not in sommets_visites:\n",
    "                sommets_visites.append(v)\n",
    "                p.empiler(v)\n",
    "        s = p.depiler()\n",
    "        \n",
    "parcours_prof_v3(G, 'A')"
   ]
  },
  {
   "cell_type": "markdown",
   "metadata": {},
   "source": [
    "## Parcours en largeur\n",
    "\n",
    "Le principe de l'algorithme est identique mais la structure accueillant les voisins est une file.\n"
   ]
  },
  {
   "cell_type": "code",
   "execution_count": 15,
   "metadata": {},
   "outputs": [],
   "source": [
    "class File:\n",
    "    def __init__(self):\n",
    "        self._pile = []\n",
    "        \n",
    "    def enfiler(self, element):\n",
    "        self._pile.append(element)\n",
    "        \n",
    "    def defiler(self):\n",
    "        if self._pile:\n",
    "            return self._pile.pop(0)"
   ]
  },
  {
   "cell_type": "code",
   "execution_count": 16,
   "metadata": {},
   "outputs": [
    {
     "name": "stdout",
     "output_type": "stream",
     "text": [
      "A\n",
      "G\n",
      "C\n",
      "H\n",
      "B\n",
      "D\n",
      "E\n",
      "F\n"
     ]
    }
   ],
   "source": [
    "def parcours_larg(graphe, sommet_depart):\n",
    "    sommets_visites = set()\n",
    "    p = File()\n",
    "    s = sommet_depart\n",
    "    while s is not None:\n",
    "        if s not in sommets_visites:\n",
    "            print(s)\n",
    "            sommets_visites.add(s)\n",
    "            for v in graphe.voisins(s):\n",
    "                p.enfiler(v)\n",
    "        s = p.defiler()\n",
    "        \n",
    "parcours_larg(G, 'A')"
   ]
  },
  {
   "cell_type": "markdown",
   "metadata": {},
   "source": [
    "## Pour aller plus loin\n",
    "\n",
    "### Tester vos codes avec l'arbre de descendance de Molly"
   ]
  },
  {
   "cell_type": "code",
   "execution_count": 43,
   "metadata": {},
   "outputs": [
    {
     "name": "stdout",
     "output_type": "stream",
     "text": [
      "molly\n",
      "bill\n",
      "dominique\n",
      "victorie\n",
      "louis\n",
      "charlie\n",
      "ron\n",
      "hugo\n",
      "rose\n",
      "percy\n",
      "moly\n",
      "lucy\n",
      "fred1\n",
      "ginny\n",
      "james\n",
      "lily\n",
      "albus\n",
      "george\n",
      "fred2\n",
      "roxanne\n"
     ]
    }
   ],
   "source": [
    "descendance_molly = {\n",
    "    \"molly\": [\"ginny\", \"percy\", \"charlie\", \"fred1\", \"george\", \"ron\", \"bill\"],\n",
    "    \"ginny\": [\"james\", \"albus\", \"lily\"],\n",
    "    \"percy\": [\"lucy\", \"moly\"],\n",
    "    \"george\": [\"roxanne\", \"fred2\"],\n",
    "    \"ron\": [\"rose\", \"hugo\"],\n",
    "    \"bill\": [\"victorie\", \"dominique\", \"louis\"]\n",
    "}\n",
    "\n",
    "liste_sommets = []\n",
    "for f in descendance_molly:\n",
    "    if f not in liste_sommets:\n",
    "        liste_sommets.append(f)\n",
    "    for v in descendance_molly[f]:\n",
    "        if v not in liste_sommets:\n",
    "            liste_sommets.append(v)\n",
    "        \n",
    "G = Graphe(liste_sommets)\n",
    "\n",
    "for f in descendance_molly:\n",
    "    for v in descendance_molly[f]:\n",
    "        G.ajouter_arete(f, v)\n",
    "        \n",
    "parcours_prof_v1(G, 'molly')"
   ]
  },
  {
   "cell_type": "markdown",
   "metadata": {},
   "source": [
    "## Programmer la fonction de parcours en profondeur en récursif"
   ]
  },
  {
   "cell_type": "code",
   "execution_count": 49,
   "metadata": {},
   "outputs": [],
   "source": [
    "def _explore(graphe, sommet, visites):\n",
    "    print(sommet)\n",
    "    visites.append(sommet)\n",
    "    for s in graphe.voisins(sommet):\n",
    "        if s not in visites:\n",
    "            _explore(graphe, s, visites)\n",
    "    \n",
    "def parcours_prof(graphe):\n",
    "    sommets_visites = []\n",
    "    for s in graphe.sommets:\n",
    "        if s not in sommets_visites:\n",
    "            _explore(graphe, s, sommets_visites)"
   ]
  },
  {
   "cell_type": "code",
   "execution_count": 50,
   "metadata": {},
   "outputs": [],
   "source": [
    "G = Graphe(incompatibilites.keys())\n",
    "\n",
    "for poisson in incompatibilites:\n",
    "    for voisin in incompatibilites[poisson]:\n",
    "        G.ajouter_arete(poisson, voisin)"
   ]
  },
  {
   "cell_type": "code",
   "execution_count": 51,
   "metadata": {},
   "outputs": [
    {
     "name": "stdout",
     "output_type": "stream",
     "text": [
      "A\n",
      "G\n",
      "E\n",
      "F\n",
      "B\n",
      "C\n",
      "H\n",
      "D\n"
     ]
    }
   ],
   "source": [
    "parcours_prof(G)"
   ]
  },
  {
   "cell_type": "code",
   "execution_count": null,
   "metadata": {},
   "outputs": [],
   "source": []
  }
 ],
 "metadata": {
  "kernelspec": {
   "display_name": "Python 3",
   "language": "python",
   "name": "python3"
  },
  "language_info": {
   "codemirror_mode": {
    "name": "ipython",
    "version": 3
   },
   "file_extension": ".py",
   "mimetype": "text/x-python",
   "name": "python",
   "nbconvert_exporter": "python",
   "pygments_lexer": "ipython3",
   "version": "3.9.10"
  }
 },
 "nbformat": 4,
 "nbformat_minor": 4
}
