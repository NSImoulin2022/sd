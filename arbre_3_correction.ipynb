{
 "cells": [
  {
   "cell_type": "markdown",
   "metadata": {},
   "source": [
    "# Arbre binaire\n",
    "\n",
    "On rappelle qu'il s'agit d'arbres, dont tous les noeuds qui ne sont pas réduits à une feuille, ont au plus deux sous-arbres : un à gauche et un à droite."
   ]
  },
  {
   "cell_type": "markdown",
   "metadata": {},
   "source": [
    "## Avant de démarrer\n",
    "\n",
    "On pourrait continuer cette partie avec une implémentation basée sur les dictionnaires.\n",
    "Par exemple, pour établir un arbre généalogique ascendant, on pourrait avoir une structure de dictionnaires imbriqués avec pour clés `nom`, `mère` et `père` :"
   ]
  },
  {
   "cell_type": "code",
   "execution_count": 1,
   "metadata": {},
   "outputs": [
    {
     "data": {
      "text/plain": [
       "'Molly'"
      ]
     },
     "execution_count": 1,
     "metadata": {},
     "output_type": "execute_result"
    }
   ],
   "source": [
    "lucy = {\n",
    "    \"nom\": \"Lucy Weasley\",\n",
    "    \"mère\": {\"nom\": \"Audry\",\n",
    "             \"mère\": {},\n",
    "             \"père\": {}},\n",
    "    \"père\": {\"nom\": \"Percy Weasley\",\n",
    "            \"mère\": {\"nom\": \"Molly\",\n",
    "                     \"père\": {},\n",
    "                     \"mère\": {}},\n",
    "             \"père\": {\"nom\": \"Arthur Weasley\",\n",
    "                      \"mère\": {},\n",
    "                      \"père\": {}}\n",
    "            }\n",
    "}\n",
    "\n",
    "lucy[\"père\"][\"mère\"]['nom']"
   ]
  },
  {
   "cell_type": "markdown",
   "metadata": {},
   "source": [
    "Néanmois, plutôt que de continuer sur ce type d'implémentation, implémentons cette idée avec **une classe** qui correspond bien à l'apect visuel d'un arbre."
   ]
  },
  {
   "cell_type": "markdown",
   "metadata": {},
   "source": [
    "## Activité 3\n",
    "\n",
    "On propose une implémentation sous forme d'une classe `Noeud` possédant trois attributs :\n",
    " - `etiquette` : valeur que représente le noeud\n",
    " - `gauche` : pointeur vers le noeud fils gauche\n",
    " - `droit` : pointeur vers le noeud fils droit\n",
    " \n",
    "et d'une classe `Feuille` possédant un seul attribut : `etiquette`.\n",
    "\n",
    "On ajoute à ces deux classes une fonciton permettant de savoir si un arbre est une feuille : `est_feuille`. Cette fonction renvoie un booléen."
   ]
  },
  {
   "cell_type": "code",
   "execution_count": 2,
   "metadata": {},
   "outputs": [],
   "source": [
    "class Noeud:\n",
    "    def __init__(self, etiquette, gauche, droit):\n",
    "        self.etiquette = etiquette\n",
    "        self.gauche = gauche\n",
    "        self.droit = droit\n",
    "        \n",
    "    def __str__(self):\n",
    "        return f\"({self.gauche} -- {self.etiquette} -- {self.droit})\"\n",
    "    \n",
    "    def __repr__(self):\n",
    "        return self.__str__()\n",
    "\n",
    "class Feuille:\n",
    "    def __init__(self, etiquette):\n",
    "        self.etiquette = etiquette\n",
    "        \n",
    "    def __str__(self):\n",
    "        return f\"({self.etiquette})\"\n",
    "    \n",
    "    def __repr__(self):\n",
    "        return self.__str__()\n",
    "    \n",
    "def est_feuille(arbre):\n",
    "    return isinstance(arbre, Feuille)"
   ]
  },
  {
   "cell_type": "markdown",
   "metadata": {},
   "source": [
    "Créer alors l'arbre d'ascendance de Ben Solo connu sous le nom de `Kylo Ren` à l'aide du document suivant :\n",
    "![](star-wars-family-tree-updated.jpg)"
   ]
  },
  {
   "cell_type": "code",
   "execution_count": 3,
   "metadata": {},
   "outputs": [],
   "source": [
    "# femme à gauche, homme à droite\n",
    "# déclaration sous forme imbriquée\n",
    "kylo_ren = Noeud(\"Kylo Ren\", \n",
    "                 Noeud(\"Princesse Leia Organa\", \n",
    "                       Noeud(\"Padme Amidala\", Feuille(\"Jobal Naberre\"), Feuille(\"Ruwee Naberre\")),\n",
    "                       Noeud(\"Anakin Skywalker\", Feuille(\"Shmi Skywalker\"), Feuille(\"LA FORCE\"))\n",
    "                      ),\n",
    "                 Feuille(\"Han Solo\")\n",
    "                )"
   ]
  },
  {
   "cell_type": "code",
   "execution_count": 4,
   "metadata": {},
   "outputs": [
    {
     "data": {
      "text/plain": [
       "((((Jobal Naberre) -- Padme Amidala -- (Ruwee Naberre)) -- Princesse Leia Organa -- ((Shmi Skywalker) -- Anakin Skywalker -- (LA FORCE))) -- Kylo Ren -- (Han Solo))"
      ]
     },
     "execution_count": 4,
     "metadata": {},
     "output_type": "execute_result"
    }
   ],
   "source": [
    "kylo_ren"
   ]
  },
  {
   "cell_type": "markdown",
   "metadata": {},
   "source": [
    "Comptons le nombre de noeuds de cet arbre, feuilles comprises, c'est-à-dire le nombre de personnages."
   ]
  },
  {
   "cell_type": "markdown",
   "metadata": {},
   "source": [
    "**Dessiner** (sur une feuille) cet arbre d'ascendance en plaçant la racine `Kylo Ren` en haut."
   ]
  },
  {
   "cell_type": "code",
   "execution_count": 5,
   "metadata": {},
   "outputs": [],
   "source": [
    "def compte_noeuds(arbre):\n",
    "    if est_feuille(arbre):\n",
    "        return 1\n",
    "    else:\n",
    "        return 1 + compte_noeuds(arbre.gauche) + compte_noeuds(arbre.droit)"
   ]
  },
  {
   "cell_type": "code",
   "execution_count": 6,
   "metadata": {},
   "outputs": [
    {
     "data": {
      "text/plain": [
       "9"
      ]
     },
     "execution_count": 6,
     "metadata": {},
     "output_type": "execute_result"
    }
   ],
   "source": [
    "compte_noeuds(kylo_ren)"
   ]
  },
  {
   "cell_type": "markdown",
   "metadata": {},
   "source": [
    "Comptons le nombre de **feuilles** de cet arbre, de manière récursive. Compléter le code suivant :"
   ]
  },
  {
   "cell_type": "code",
   "execution_count": 7,
   "metadata": {},
   "outputs": [],
   "source": [
    "def effectif_feuilles(arbre):\n",
    "    if est_feuille(arbre):\n",
    "        return 1\n",
    "    else:\n",
    "        return effectif_feuilles(arbre.gauche) + effectif_feuilles(arbre.droit)"
   ]
  },
  {
   "cell_type": "code",
   "execution_count": 8,
   "metadata": {},
   "outputs": [
    {
     "data": {
      "text/plain": [
       "5"
      ]
     },
     "execution_count": 8,
     "metadata": {},
     "output_type": "execute_result"
    }
   ],
   "source": [
    "effectif_feuilles(kylo_ren)"
   ]
  },
  {
   "cell_type": "markdown",
   "metadata": {},
   "source": [
    "Calculons la **hauteur** de l'arbre. Compléter le code suivant :"
   ]
  },
  {
   "cell_type": "code",
   "execution_count": 9,
   "metadata": {},
   "outputs": [],
   "source": [
    "def hauteur(arbre):\n",
    "    if est_feuille(arbre):\n",
    "        return 1\n",
    "    else:\n",
    "        return 1 + max(hauteur(arbre.gauche), hauteur(arbre.droit))"
   ]
  },
  {
   "cell_type": "code",
   "execution_count": 10,
   "metadata": {},
   "outputs": [
    {
     "data": {
      "text/plain": [
       "4"
      ]
     },
     "execution_count": 10,
     "metadata": {},
     "output_type": "execute_result"
    }
   ],
   "source": [
    "hauteur(kylo_ren)"
   ]
  },
  {
   "cell_type": "markdown",
   "metadata": {},
   "source": [
    "Sur ce nombre de générations et si l'arbre était **complet**, combien de personnages devrait-on avoir?"
   ]
  },
  {
   "cell_type": "markdown",
   "metadata": {},
   "source": [
    "$1 + 2 + 4 + 8 = 2^0 + 2^1+2^2+2^3 = \\dfrac{2^4 - 1}{2 - 1}= 15$"
   ]
  },
  {
   "cell_type": "markdown",
   "metadata": {},
   "source": [
    "**Parcourons l'arbre en profondeur : parcours préfixe**\n",
    "Compléter le code suivant :"
   ]
  },
  {
   "cell_type": "code",
   "execution_count": 11,
   "metadata": {},
   "outputs": [],
   "source": [
    "def parcours_profondeur_prefixe(arbre):\n",
    "    print(arbre.etiquette)\n",
    "    if not est_feuille(arbre):\n",
    "        parcours_profondeur_prefixe(arbre.gauche)\n",
    "        parcours_profondeur_prefixe(arbre.droit)"
   ]
  },
  {
   "cell_type": "code",
   "execution_count": 12,
   "metadata": {},
   "outputs": [
    {
     "name": "stdout",
     "output_type": "stream",
     "text": [
      "Kylo Ren\n",
      "Princesse Leia Organa\n",
      "Padme Amidala\n",
      "Jobal Naberre\n",
      "Ruwee Naberre\n",
      "Anakin Skywalker\n",
      "Shmi Skywalker\n",
      "LA FORCE\n",
      "Han Solo\n"
     ]
    }
   ],
   "source": [
    "parcours_profondeur_prefixe(kylo_ren)"
   ]
  },
  {
   "cell_type": "markdown",
   "metadata": {},
   "source": [
    "**Parcourons l'arbre en profondeur : parcours infixe**\n",
    "Compléter le code suivant :"
   ]
  },
  {
   "cell_type": "code",
   "execution_count": 13,
   "metadata": {},
   "outputs": [],
   "source": [
    "def parcours_profondeur_infixe(arbre):\n",
    "    if not est_feuille(arbre):\n",
    "        parcours_profondeur_infixe(arbre.gauche)\n",
    "    print(arbre.etiquette)\n",
    "    if not est_feuille(arbre):\n",
    "        parcours_profondeur_infixe(arbre.droit)"
   ]
  },
  {
   "cell_type": "code",
   "execution_count": 14,
   "metadata": {},
   "outputs": [
    {
     "name": "stdout",
     "output_type": "stream",
     "text": [
      "Jobal Naberre\n",
      "Padme Amidala\n",
      "Ruwee Naberre\n",
      "Princesse Leia Organa\n",
      "Shmi Skywalker\n",
      "Anakin Skywalker\n",
      "LA FORCE\n",
      "Kylo Ren\n",
      "Han Solo\n"
     ]
    }
   ],
   "source": [
    "parcours_profondeur_infixe(kylo_ren)"
   ]
  },
  {
   "cell_type": "markdown",
   "metadata": {},
   "source": [
    "**Parcourons l'arbre en profondeur : parcours suffixe**\n",
    "Compléter le code suivant :"
   ]
  },
  {
   "cell_type": "code",
   "execution_count": 15,
   "metadata": {},
   "outputs": [],
   "source": [
    "def parcours_profondeur_suffixe(arbre):\n",
    "    if not est_feuille(arbre):\n",
    "        parcours_profondeur_suffixe(arbre.gauche)\n",
    "        parcours_profondeur_suffixe(arbre.droit)\n",
    "    print(arbre.etiquette)"
   ]
  },
  {
   "cell_type": "code",
   "execution_count": 16,
   "metadata": {},
   "outputs": [
    {
     "name": "stdout",
     "output_type": "stream",
     "text": [
      "Jobal Naberre\n",
      "Ruwee Naberre\n",
      "Padme Amidala\n",
      "Shmi Skywalker\n",
      "LA FORCE\n",
      "Anakin Skywalker\n",
      "Princesse Leia Organa\n",
      "Han Solo\n",
      "Kylo Ren\n"
     ]
    }
   ],
   "source": [
    "parcours_profondeur_suffixe(kylo_ren)"
   ]
  },
  {
   "cell_type": "markdown",
   "metadata": {},
   "source": [
    "Auteur : David COBAC\n",
    "\n",
    "Licence CC-BY-NC-SA"
   ]
  }
 ],
 "metadata": {
  "kernelspec": {
   "display_name": "Python 3",
   "language": "python",
   "name": "python3"
  },
  "language_info": {
   "codemirror_mode": {
    "name": "ipython",
    "version": 3
   },
   "file_extension": ".py",
   "mimetype": "text/x-python",
   "name": "python",
   "nbconvert_exporter": "python",
   "pygments_lexer": "ipython3",
   "version": "3.9.10"
  }
 },
 "nbformat": 4,
 "nbformat_minor": 4
}
