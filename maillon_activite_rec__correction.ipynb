{
 "cells": [
  {
   "cell_type": "markdown",
   "metadata": {},
   "source": [
    "# Exercice sur la classe Maillon"
   ]
  },
  {
   "cell_type": "markdown",
   "metadata": {},
   "source": [
    "Écrire la classe `Maillon` avec les deux attributs : `contenu` et `suivant`.\n",
    "\n",
    "Instancier la classe nécessite deux arguments obligatoires de même nom que les attributs."
   ]
  },
  {
   "cell_type": "code",
   "execution_count": null,
   "metadata": {},
   "outputs": [],
   "source": [
    "class Maillon:\n",
    "    def __init__(self, contenu, suivant):\n",
    "        self.contenu = contenu\n",
    "        self.suivant = suivant"
   ]
  },
  {
   "cell_type": "markdown",
   "metadata": {},
   "source": [
    "Créer une liste chaînée de maillons dont les contenus sont les 10 premiers entiers naturels.  "
   ]
  },
  {
   "cell_type": "code",
   "execution_count": 9,
   "metadata": {},
   "outputs": [],
   "source": [
    "m = Maillon(0, None)\n",
    "premier = m\n",
    "for i in range(1, 10):\n",
    "    m.suivant = Maillon(i, None)\n",
    "    m = m.suivant"
   ]
  },
  {
   "cell_type": "markdown",
   "metadata": {},
   "source": [
    "Voici ci-dessous une fonction mystère, quel est le rôle de cette fonction ?"
   ]
  },
  {
   "cell_type": "code",
   "execution_count": 10,
   "metadata": {},
   "outputs": [
    {
     "name": "stdout",
     "output_type": "stream",
     "text": [
      "0\n",
      "1\n",
      "2\n",
      "3\n",
      "4\n",
      "5\n",
      "6\n",
      "7\n",
      "8\n",
      "9\n"
     ]
    }
   ],
   "source": [
    "def mystere(un_maillon):\n",
    "    print(un_maillon.contenu)\n",
    "    if un_maillon.suivant is not None:\n",
    "        mystere(un_maillon.suivant)\n",
    "        \n",
    "mystere(premier)"
   ]
  },
  {
   "cell_type": "markdown",
   "metadata": {},
   "source": [
    "Proposer une fonction permettant l'affichage dans l'autre sens."
   ]
  },
  {
   "cell_type": "code",
   "execution_count": 12,
   "metadata": {},
   "outputs": [
    {
     "name": "stdout",
     "output_type": "stream",
     "text": [
      "9\n",
      "8\n",
      "7\n",
      "6\n",
      "5\n",
      "4\n",
      "3\n",
      "2\n",
      "1\n",
      "0\n"
     ]
    }
   ],
   "source": [
    "def mystere_inverse(un_maillon):\n",
    "    if un_maillon.suivant is not None:\n",
    "        mystere_inverse(un_maillon.suivant)\n",
    "    print(un_maillon.contenu)\n",
    "    \n",
    "mystere_inverse(premier)"
   ]
  },
  {
   "cell_type": "markdown",
   "metadata": {},
   "source": [
    "Voici ci-dessous une fonction `mystere2`.\n",
    "\n",
    "Comment s'appelle une telle fonction ?\n",
    "\n",
    "Quel est son rôle ?"
   ]
  },
  {
   "cell_type": "code",
   "execution_count": 16,
   "metadata": {},
   "outputs": [],
   "source": [
    "def mystere2(un_maillon):\n",
    "        return _mystere2(un_maillon, [])\n",
    "\n",
    "def _mystere2(un_maillon, liste):    \n",
    "    liste.append(un_maillon.contenu)\n",
    "    if un_maillon.suivant is None:\n",
    "        return liste\n",
    "    else:\n",
    "        return _mystere2(un_maillon.suivant, liste)"
   ]
  },
  {
   "cell_type": "code",
   "execution_count": 17,
   "metadata": {},
   "outputs": [
    {
     "data": {
      "text/plain": [
       "[0, 1, 2, 3, 4, 5, 6, 7, 8, 9]"
      ]
     },
     "execution_count": 17,
     "metadata": {},
     "output_type": "execute_result"
    }
   ],
   "source": [
    "mystere2(premier)"
   ]
  },
  {
   "cell_type": "code",
   "execution_count": null,
   "metadata": {},
   "outputs": [],
   "source": []
  }
 ],
 "metadata": {
  "kernelspec": {
   "display_name": "Python 3",
   "language": "python",
   "name": "python3"
  },
  "language_info": {
   "codemirror_mode": {
    "name": "ipython",
    "version": 3
   },
   "file_extension": ".py",
   "mimetype": "text/x-python",
   "name": "python",
   "nbconvert_exporter": "python",
   "pygments_lexer": "ipython3",
   "version": "3.9.8"
  }
 },
 "nbformat": 4,
 "nbformat_minor": 4
}
