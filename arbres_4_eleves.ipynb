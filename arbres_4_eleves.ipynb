{
 "cells": [
  {
   "cell_type": "markdown",
   "metadata": {},
   "source": [
    "# Arbre binaire\n",
    "\n",
    "### Activité 4\n",
    "\n",
    "On désire réunir les deux classes `Noeud` et `Feuille` en une seule. Pour cela, on change la classe noeud dont le constructeur (l'initialisation) prend en arguments optionnels les valeurs d'attributs `gauche` et `droite`."
   ]
  },
  {
   "cell_type": "code",
   "execution_count": null,
   "metadata": {},
   "outputs": [],
   "source": [
    "class Noeud:\n",
    "    def __init__(self, etiquette, gauche=None, droit=None):\n",
    "        # à compléter\n",
    "    \n",
    "    def __len__(self):\n",
    "        lg = 0 if self.gauche is None else len(self.gauche)\n",
    "        ld = # à compléter\n",
    "        return # à compléter \n",
    "    \n",
    "    def est_une_feuille(self):\n",
    "        return not (# à compléter \n",
    "    \n",
    "    def hauteur(self):\n",
    "        if self.est_une_feuille():\n",
    "            return # à compléter\n",
    "        else:\n",
    "            hg = 0 if self.gauche is None else self.gauche.hauteur()\n",
    "            hd = # à compléter\n",
    "            return 1 + # à compléter\n",
    "        \n",
    "    def p_largeur(self):\n",
    "        f = File()\n",
    "        f.enfiler(self)\n",
    "        liste = []\n",
    "        while not f.est_vide():\n",
    "            # à compléter\n",
    "        return liste"
   ]
  },
  {
   "cell_type": "code",
   "execution_count": null,
   "metadata": {},
   "outputs": [],
   "source": [
    "# femme à gauche, homme à droite\n",
    "# on peut (si on le veut) instancier de manière séparée\n",
    "la_force = Noeud(\"LA FORCE\")\n",
    "anakin = Noeud(\"Anakin Skywalker\", Noeud(\"Shmi Skywalker\"), la_force)\n",
    "padme = # à compléter\n",
    "# à compléter"
   ]
  },
  {
   "cell_type": "markdown",
   "metadata": {},
   "source": [
    "On intègre alors la fonction `est_une_feuille` comme une méthode. Compléter le code de la classe et tester."
   ]
  },
  {
   "cell_type": "code",
   "execution_count": null,
   "metadata": {},
   "outputs": [],
   "source": [
    "la_force.est_une_feuille()"
   ]
  },
  {
   "cell_type": "markdown",
   "metadata": {},
   "source": [
    "On intègre alors `hauteur` comme méthode qui renvoie la hauteur de l'arbre. Compléter le code de la classe et tester."
   ]
  },
  {
   "cell_type": "code",
   "execution_count": null,
   "metadata": {},
   "outputs": [],
   "source": [
    "kylo_ren.hauteur()"
   ]
  },
  {
   "cell_type": "markdown",
   "metadata": {},
   "source": [
    "On intègre alors la fonction `__len__` qui renvoie **la taille** de l'arbre (le nombre de noeuds). On le fera en implémentant un parcours préfixe. Compléter le code de la classe et tester."
   ]
  },
  {
   "cell_type": "code",
   "execution_count": null,
   "metadata": {},
   "outputs": [],
   "source": [
    "len(kylo_ren)"
   ]
  },
  {
   "cell_type": "markdown",
   "metadata": {},
   "source": [
    "On veut implémenter **le parcours en largeur**. Pour cela on va d'abord créer une classe `File` :\n",
    " - aucun attribut publique, on aura un attribut privé `_liste`\n",
    " - les méthodes à implémenter :\n",
    "   - enfiler(element) -> None\n",
    "   - deflier() -> element ou None\n",
    "   - est_vide() -> booléen\n",
    "\n",
    "Compléter le code suivant:"
   ]
  },
  {
   "cell_type": "code",
   "execution_count": null,
   "metadata": {},
   "outputs": [],
   "source": [
    "class File:\n",
    "    def __init__(self):\n",
    "        self._liste = []\n",
    "    \n",
    "    def enfiler(self, element):\n",
    "        # à compléter\n",
    "        \n",
    "    def defiler(self):\n",
    "        if not self.est_vide():\n",
    "            # à compléter\n",
    "        \n",
    "    def est_vide(self):\n",
    "        return len(self._liste) == 0"
   ]
  },
  {
   "cell_type": "markdown",
   "metadata": {},
   "source": [
    "Ceci fait, on va créer dans la classe `Noeud` une méthode `p_largeur` qui renvoie la liste les élements de l'arbre parcouru en largeur. (voir cours pour l'algorithme). On teste ensuite ci-dessous :"
   ]
  },
  {
   "cell_type": "code",
   "execution_count": null,
   "metadata": {},
   "outputs": [],
   "source": [
    "kylo_ren.p_largeur()"
   ]
  },
  {
   "cell_type": "markdown",
   "metadata": {},
   "source": [
    "Auteur : David COBAC\n",
    "\n",
    "Licence CC-BY-NC-SA"
   ]
  },
  {
   "cell_type": "code",
   "execution_count": null,
   "metadata": {},
   "outputs": [],
   "source": []
  }
 ],
 "metadata": {
  "kernelspec": {
   "display_name": "Python 3",
   "language": "python",
   "name": "python3"
  },
  "language_info": {
   "codemirror_mode": {
    "name": "ipython",
    "version": 3
   },
   "file_extension": ".py",
   "mimetype": "text/x-python",
   "name": "python",
   "nbconvert_exporter": "python",
   "pygments_lexer": "ipython3",
   "version": "3.9.1+"
  }
 },
 "nbformat": 4,
 "nbformat_minor": 4
}
