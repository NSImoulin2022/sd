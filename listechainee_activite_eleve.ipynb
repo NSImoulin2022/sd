{
 "cells": [
  {
   "cell_type": "markdown",
   "metadata": {},
   "source": [
    "# Exercice liste chainee"
   ]
  },
  {
   "cell_type": "markdown",
   "metadata": {},
   "source": [
    "Compléter les méthodes `ajoute_en_tete` et `ajoute_en_queue` :"
   ]
  },
  {
   "cell_type": "code",
   "execution_count": null,
   "metadata": {},
   "outputs": [],
   "source": [
    "class Maillon:\n",
    "    def __init__(self, contenu, suivant):\n",
    "        self.contenu = contenu\n",
    "        self.suivant = suivant\n",
    "\n",
    "class Liste_Chainee:\n",
    "    def __init__(self):\n",
    "        self.premier = None\n",
    "    \n",
    "    def ajoute_en_tete(self, contenu):\n",
    "        \"\"\"Ajoute le contenu sous forme d'un maillon au \n",
    "        début de la liste chaînée\n",
    "        \"\"\"\n",
    "        \n",
    "        pass\n",
    "        \n",
    "    def ajoute_en_queue(self, contenu):\n",
    "        \"\"\"Ajoute le contenu sous forme d'un maillon à \n",
    "        la fin de la liste chaînée\n",
    "        \"\"\"\n",
    "        \n",
    "        pass"
   ]
  },
  {
   "cell_type": "markdown",
   "metadata": {},
   "source": [
    "On instancie ci-dessous notre classe :"
   ]
  },
  {
   "cell_type": "code",
   "execution_count": null,
   "metadata": {},
   "outputs": [],
   "source": [
    "r = range(10)\n",
    "\n",
    "lc, lc2 = Liste_Chainee(), Liste_Chainee()\n",
    "\n",
    "for i in r:\n",
    "    lc.ajoute_en_tete(i)\n",
    "    lc2.ajoute_en_queue(i)"
   ]
  },
  {
   "cell_type": "markdown",
   "metadata": {},
   "source": [
    "On se propose de créer une fonction qui affiche sous forme d'une liste Python les éléments contenus dans la liste chaînée. Complétez-la puis vérifiez avec les instances créées précédemment."
   ]
  },
  {
   "cell_type": "code",
   "execution_count": null,
   "metadata": {},
   "outputs": [],
   "source": [
    "def liste_contenus(listec):\n",
    "    maillon = listec.premier\n",
    "    ma_liste = []\n",
    "    #\n",
    "    # zone à compléter\n",
    "    #\n",
    "    return ma_liste"
   ]
  },
  {
   "cell_type": "code",
   "execution_count": null,
   "metadata": {},
   "outputs": [],
   "source": [
    "liste_contenus(lc)"
   ]
  },
  {
   "cell_type": "code",
   "execution_count": null,
   "metadata": {},
   "outputs": [],
   "source": [
    "liste_contenus(lc2)"
   ]
  },
  {
   "cell_type": "code",
   "execution_count": null,
   "metadata": {},
   "outputs": [],
   "source": []
  }
 ],
 "metadata": {
  "kernelspec": {
   "display_name": "Python 3",
   "language": "python",
   "name": "python3"
  },
  "language_info": {
   "codemirror_mode": {
    "name": "ipython",
    "version": 3
   },
   "file_extension": ".py",
   "mimetype": "text/x-python",
   "name": "python",
   "nbconvert_exporter": "python",
   "pygments_lexer": "ipython3",
   "version": "3.9.8"
  }
 },
 "nbformat": 4,
 "nbformat_minor": 4
}
