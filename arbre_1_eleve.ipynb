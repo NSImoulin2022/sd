{
 "cells": [
  {
   "cell_type": "markdown",
   "metadata": {},
   "source": [
    "# Arbre\n",
    "\n",
    "Un arbre est une structure de données hiérarchique contenant des noeuds. Dans la terminologie informatique, on utilise les termes de `feuille` pour les informations élémentaires, de `noeud` pour chaque embranchement de l'arbre, et de `racine` pour le noeud principal."
   ]
  },
  {
   "cell_type": "markdown",
   "metadata": {},
   "source": [
    "## Implémentations\n",
    "\n",
    "Un objet de type noeud d'arbre (voir cours) est une structure contenant une valeur (ou pas) et des liens vers les noeuds descendants."
   ]
  },
  {
   "cell_type": "markdown",
   "metadata": {},
   "source": [
    "### Activité 1 : un dictionnaire\n",
    "À partir de l'image ci-dessous :\n",
    "![](http://cobac.free.fr/weasley_family_tree_by_ooruh-d57qqiq.jpg)\n",
    "\n",
    "proposer, sous la forme de dictionnaires imbriqués, l'arbre de descendance de `Molly Weasley`(celle en haut de l'image), pour ce faire, compléter le dictionnaire commencé :"
   ]
  },
  {
   "cell_type": "code",
   "execution_count": null,
   "metadata": {},
   "outputs": [],
   "source": [
    "descendance_molly = {\n",
    "    \"molly\": {\n",
    "        \"ginny\": # à compléter\n",
    "}"
   ]
  },
  {
   "cell_type": "markdown",
   "metadata": {},
   "source": [
    "On souhaite **parcourir** l'ensemble des personnages contenues dans ce dictionnaire. Compléter le parcours récursif suivant :"
   ]
  },
  {
   "cell_type": "code",
   "execution_count": null,
   "metadata": {},
   "outputs": [],
   "source": [
    "def parcours(dico):\n",
    "    if not dico: # à compléter\n",
    "    for # à compléter\n",
    "        # à compléter\n",
    "        parcours # à compléter"
   ]
  },
  {
   "cell_type": "code",
   "execution_count": null,
   "metadata": {},
   "outputs": [],
   "source": [
    "parcours(descendance_molly)"
   ]
  },
  {
   "cell_type": "markdown",
   "metadata": {},
   "source": [
    "On veut **améliorer l'affichage** pour mieux différencier parents et enfants.\n",
    "On va donc inclure une variable (potentiellement optionnelle) de **profondeur**, compléter le code suivant :"
   ]
  },
  {
   "cell_type": "code",
   "execution_count": null,
   "metadata": {},
   "outputs": [],
   "source": [
    "def parcours(dico, profondeur):\n",
    "    if not dico: # à compléter\n",
    "    for # à compléter\n",
    "\n",
    "parcours(descendance_molly, 0)"
   ]
  },
  {
   "cell_type": "markdown",
   "metadata": {},
   "source": [
    "Calculons la **hauteur** de l'arbre en prenant en compte toutes ses profondeurs, compléter le code suivant :"
   ]
  },
  {
   "cell_type": "code",
   "execution_count": null,
   "metadata": {},
   "outputs": [],
   "source": [
    "def hauteur(dico):\n",
    "    if not dico: #à compléter\n",
    "    # à compléter    \n",
    "\n",
    "hauteur(descendance_molly)"
   ]
  },
  {
   "cell_type": "code",
   "execution_count": null,
   "metadata": {},
   "outputs": [],
   "source": [
    "Auteur : David COBAC\n",
    "Licence CC-BY-NC-SA"
   ]
  }
 ],
 "metadata": {
  "kernelspec": {
   "display_name": "Python 3",
   "language": "python",
   "name": "python3"
  },
  "language_info": {
   "codemirror_mode": {
    "name": "ipython",
    "version": 3
   },
   "file_extension": ".py",
   "mimetype": "text/x-python",
   "name": "python",
   "nbconvert_exporter": "python",
   "pygments_lexer": "ipython3",
   "version": "3.9.9"
  }
 },
 "nbformat": 4,
 "nbformat_minor": 4
}
