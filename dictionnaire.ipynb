{
 "cells": [
  {
   "cell_type": "markdown",
   "metadata": {},
   "source": [
    "**DICTIONNAIRES Terminale : rappels de première**\n",
    "\n",
    "Un dictionnaire est une _structure de données_ permettant le stockage de données.\n",
    "C'est un tableau associatif, comme l'est un dictionnaire de langue française ou un index dans un livre dans lesquels on recherche un mot pour obtenir une description ou le numéro d'une page.\n",
    "\n",
    "Un élément du dictionnaire est un couple `(clé, valeur)`.\n",
    "\n",
    "L'interface d'un dictionnaire se compose de :\n",
    " - sa longueur ;\n",
    " - l'insertion d'un élément ;\n",
    " - l'accès à un élement ;\n",
    " - la recherche d'un élément à partir de sa clé ;\n",
    " - la suppression d'un élément ;\n",
    " - la possibilité de _parcourir_ le dictionnaire."
   ]
  },
  {
   "cell_type": "markdown",
   "metadata": {
    "ein.tags": "worksheet-0",
    "slideshow": {
     "slide_type": "-"
    }
   },
   "source": [
    "**Un dictionnaire est un tableau constitué de clés et de valeurs**\n",
    "\n",
    "Une clé permet d'accéder à une valeur.\n",
    "\n",
    "\n",
    "L'accès aux valeurs se fait comme dans une liste : on utilise les crochets, on ne met plus la position de l'élément désiré mais la clé :"
   ]
  },
  {
   "cell_type": "code",
   "execution_count": 75,
   "metadata": {
    "autoscroll": false,
    "ein.hycell": false,
    "ein.tags": "worksheet-0",
    "slideshow": {
     "slide_type": "-"
    }
   },
   "outputs": [
    {
     "data": {
      "text/plain": [
       "{1: 'entrée', 1.5: 'plat', 3: 'dessert'}"
      ]
     },
     "execution_count": 75,
     "metadata": {},
     "output_type": "execute_result"
    }
   ],
   "source": [
    "d = {1: 'entrée', 1.5: 'plat', 3: 'dessert'}\n",
    "d"
   ]
  },
  {
   "cell_type": "code",
   "execution_count": 76,
   "metadata": {
    "autoscroll": false,
    "ein.hycell": false,
    "ein.tags": "worksheet-0",
    "slideshow": {
     "slide_type": "-"
    }
   },
   "outputs": [
    {
     "data": {
      "text/plain": [
       "'plat'"
      ]
     },
     "execution_count": 76,
     "metadata": {},
     "output_type": "execute_result"
    }
   ],
   "source": [
    "d[1.5] # accès à l'élément de clé 1.5"
   ]
  },
  {
   "cell_type": "markdown",
   "metadata": {},
   "source": [
    "On peut alimenter le dictionnaire avec un nouveau couple `(clé, valeur)` après la création du dictionnaire :"
   ]
  },
  {
   "cell_type": "code",
   "execution_count": 77,
   "metadata": {
    "autoscroll": false,
    "ein.hycell": false,
    "ein.tags": "worksheet-0",
    "slideshow": {
     "slide_type": "-"
    }
   },
   "outputs": [
    {
     "data": {
      "text/plain": [
       "{1: 'entrée', 1.5: 'plat', 3: 'dessert', 0: 'apéro'}"
      ]
     },
     "execution_count": 77,
     "metadata": {},
     "output_type": "execute_result"
    }
   ],
   "source": [
    "d[0] = \"apéro\"\n",
    "d"
   ]
  },
  {
   "cell_type": "markdown",
   "metadata": {},
   "source": [
    " On remarque que le dictionnaire ne trie pas le dictionnaire..."
   ]
  },
  {
   "cell_type": "markdown",
   "metadata": {},
   "source": [
    "La longueur du dictionnaire est le nombre de couples `(clé, valeur)` qu'il contient.\n",
    "\n",
    "En Python, on utilise la fonction `len` comme pour les listes : "
   ]
  },
  {
   "cell_type": "code",
   "execution_count": 78,
   "metadata": {},
   "outputs": [
    {
     "data": {
      "text/plain": [
       "4"
      ]
     },
     "execution_count": 78,
     "metadata": {},
     "output_type": "execute_result"
    }
   ],
   "source": [
    "len(d)"
   ]
  },
  {
   "cell_type": "markdown",
   "metadata": {},
   "source": [
    "Pour supprimer une clé (et donc l'accès à une valeur), on utilise l'instruction `del` :"
   ]
  },
  {
   "cell_type": "code",
   "execution_count": 79,
   "metadata": {},
   "outputs": [
    {
     "data": {
      "text/plain": [
       "{1: 'entrée', 1.5: 'plat', 3: 'dessert'}"
      ]
     },
     "execution_count": 79,
     "metadata": {},
     "output_type": "execute_result"
    }
   ],
   "source": [
    "del d[0]\n",
    "d"
   ]
  },
  {
   "cell_type": "markdown",
   "metadata": {},
   "source": [
    "Pour créer un dictionnaire vide, on utilise : "
   ]
  },
  {
   "cell_type": "code",
   "execution_count": 80,
   "metadata": {},
   "outputs": [],
   "source": [
    "mon_dico = {}"
   ]
  },
  {
   "cell_type": "markdown",
   "metadata": {
    "ein.tags": "worksheet-0",
    "slideshow": {
     "slide_type": "-"
    }
   },
   "source": [
    "**Tous les immutables sont possibles comme clé**\n",
    "\n",
    "Comme par exemple les nombres, les chaînes de caractères :"
   ]
  },
  {
   "cell_type": "code",
   "execution_count": 81,
   "metadata": {},
   "outputs": [
    {
     "data": {
      "text/plain": [
       "{'spé': 'NSI', 0: 'La clé est un nombre.', '0': 'La clé est un caractère.'}"
      ]
     },
     "execution_count": 81,
     "metadata": {},
     "output_type": "execute_result"
    }
   ],
   "source": [
    "mon_dico['spé'] = 'NSI'\n",
    "mon_dico[0] = 'La clé est un nombre.'\n",
    "mon_dico['0'] = 'La clé est un caractère.'\n",
    "mon_dico"
   ]
  },
  {
   "cell_type": "markdown",
   "metadata": {},
   "source": [
    "Un tuple est une clé possible, par exemple le tuple `(3, 1)`.\n",
    "La liste `[3, 1]` n'est pas possible.\n",
    "\n",
    "On ne change pas la valeur d'un tuple (normalement).\n",
    "Alors qu'une liste est susceptible de changer."
   ]
  },
  {
   "cell_type": "code",
   "execution_count": 82,
   "metadata": {
    "autoscroll": false,
    "ein.hycell": false,
    "ein.tags": "worksheet-0",
    "slideshow": {
     "slide_type": "-"
    }
   },
   "outputs": [
    {
     "data": {
      "text/plain": [
       "{'spé': 'NSI',\n",
       " 0: 'La clé est un nombre.',\n",
       " '0': 'La clé est un caractère.',\n",
       " (3, 1): '#0f0'}"
      ]
     },
     "execution_count": 82,
     "metadata": {},
     "output_type": "execute_result"
    }
   ],
   "source": [
    "mon_dico[(3, 1)] = \"#0f0\"\n",
    "mon_dico"
   ]
  },
  {
   "cell_type": "code",
   "execution_count": 83,
   "metadata": {
    "autoscroll": false,
    "ein.hycell": false,
    "ein.tags": "worksheet-0",
    "slideshow": {
     "slide_type": "-"
    }
   },
   "outputs": [
    {
     "ename": "TypeError",
     "evalue": "unhashable type: 'list'",
     "output_type": "error",
     "traceback": [
      "\u001b[0;31m-------------------------------------------------------\u001b[0m",
      "\u001b[0;31mTypeError\u001b[0m             Traceback (most recent call last)",
      "\u001b[0;32m<ipython-input-83-72a38b5cb6cd>\u001b[0m in \u001b[0;36m<module>\u001b[0;34m\u001b[0m\n\u001b[0;32m----> 1\u001b[0;31m \u001b[0mmon_dico\u001b[0m\u001b[0;34m[\u001b[0m\u001b[0;34m[\u001b[0m\u001b[0;36m3\u001b[0m\u001b[0;34m,\u001b[0m\u001b[0;36m1\u001b[0m\u001b[0;34m]\u001b[0m\u001b[0;34m]\u001b[0m \u001b[0;34m=\u001b[0m \u001b[0;34m\"#0f0\"\u001b[0m \u001b[0;31m# produit une erreur\u001b[0m\u001b[0;34m\u001b[0m\u001b[0;34m\u001b[0m\u001b[0m\n\u001b[0m",
      "\u001b[0;31mTypeError\u001b[0m: unhashable type: 'list'"
     ]
    }
   ],
   "source": [
    "mon_dico[[3,1]] = \"#0f0\" # produit une erreur"
   ]
  },
  {
   "cell_type": "markdown",
   "metadata": {
    "ein.tags": "worksheet-0",
    "slideshow": {
     "slide_type": "-"
    }
   },
   "source": [
    "**On peut, comme dans une liste, avoir des valeurs assez complexes**\n",
    "\n",
    "Ci-dessous, la valeur est un tableau contenant en dernier élément un dictionnaire.\n",
    "La nouvelle clé n'est pas numérique."
   ]
  },
  {
   "cell_type": "code",
   "execution_count": 1,
   "metadata": {
    "autoscroll": false,
    "ein.hycell": false,
    "ein.tags": "worksheet-0",
    "slideshow": {
     "slide_type": "-"
    }
   },
   "outputs": [
    {
     "data": {
      "text/plain": [
       "{'restaurant': 'Aux Nombreuses Sardines Indigestes',\n",
       " 'repas': ['entree',\n",
       "  'plat',\n",
       "  {'boisson': 'eau plate', 'tarif': 0, 'volume': 1.5}]}"
      ]
     },
     "execution_count": 1,
     "metadata": {},
     "output_type": "execute_result"
    }
   ],
   "source": [
    "d = {}\n",
    "d['restaurant'] = \"Aux Nombreuses Sardines Indigestes\"\n",
    "d['repas'] = [\"entree\", \"plat\", {\"boisson\": \"eau plate\", \"tarif\": 0, \"volume\": 1.5}]\n",
    "d"
   ]
  },
  {
   "cell_type": "markdown",
   "metadata": {},
   "source": [
    "On peut récupérer l'ensemble des clés avec la méthode `keys` :"
   ]
  },
  {
   "cell_type": "code",
   "execution_count": 2,
   "metadata": {},
   "outputs": [
    {
     "data": {
      "text/plain": [
       "dict_keys(['restaurant', 'repas'])"
      ]
     },
     "execution_count": 2,
     "metadata": {},
     "output_type": "execute_result"
    }
   ],
   "source": [
    "d.keys()"
   ]
  },
  {
   "cell_type": "markdown",
   "metadata": {},
   "source": [
    "On peut voir que l'objet sorti n'est pas une simple liste. Néanmoins cela reste un objet `itérable` (sur lequel on peut boucler :"
   ]
  },
  {
   "cell_type": "code",
   "execution_count": 3,
   "metadata": {},
   "outputs": [
    {
     "name": "stdout",
     "output_type": "stream",
     "text": [
      "restaurant\n",
      "repas\n"
     ]
    }
   ],
   "source": [
    "for cle in d.keys():\n",
    "    print(cle)"
   ]
  },
  {
   "cell_type": "markdown",
   "metadata": {
    "ein.tags": "worksheet-0",
    "slideshow": {
     "slide_type": "-"
    }
   },
   "source": [
    "**On peut accèder à un élement imbriqué en suivant la logique des accès aux listes et aux dictionnaires**\n",
    "\n",
    "Cherchons à obtenir 'eau plate'."
   ]
  },
  {
   "cell_type": "code",
   "execution_count": null,
   "metadata": {
    "autoscroll": false,
    "ein.hycell": false,
    "ein.tags": "worksheet-0",
    "slideshow": {
     "slide_type": "-"
    }
   },
   "outputs": [],
   "source": [
    "d['repas']"
   ]
  },
  {
   "cell_type": "code",
   "execution_count": null,
   "metadata": {
    "autoscroll": false,
    "ein.hycell": false,
    "ein.tags": "worksheet-0",
    "slideshow": {
     "slide_type": "-"
    }
   },
   "outputs": [],
   "source": [
    "d['repas'][2]"
   ]
  },
  {
   "cell_type": "code",
   "execution_count": null,
   "metadata": {
    "autoscroll": false,
    "ein.hycell": false,
    "ein.tags": "worksheet-0",
    "slideshow": {
     "slide_type": "-"
    }
   },
   "outputs": [],
   "source": [
    "d['repas'][2]['boisson']"
   ]
  },
  {
   "cell_type": "markdown",
   "metadata": {},
   "source": [
    "*Remarque :* C'est un classique dans le parcours de données au format JSON, format fréquent sur Internet.\n",
    "\n",
    "On remarque dans l'exemple précédent qu'il a été nécessaire de connaître la position dans la liste. C'est souvent le cas dans les JSON récupérés : il est indispensable d'analyser (et de bien lire la documentation associée) le contenu du JSON avant de pouvoir l'exploiter.\n",
    "\n",
    "Certains contenus JSON sont néanmoins normalisés comme par exemple les JSON à caractère géographiques (contenant de l'information liée à un positionnement GPS) : les GeoJSON. "
   ]
  },
  {
   "cell_type": "markdown",
   "metadata": {
    "ein.tags": "worksheet-0",
    "slideshow": {
     "slide_type": "-"
    }
   },
   "source": [
    "**Créer un dictionnaire par compréhension**\n",
    "\n",
    "À l'instar de ce que'on peut réaliser avec les listes, on peut créer un dictionnaire **par compréhension**.\n",
    "La syntaxe est presque la même. On doit évidemment préciser la clé et la valeur."
   ]
  },
  {
   "cell_type": "code",
   "execution_count": null,
   "metadata": {
    "autoscroll": false,
    "ein.hycell": false,
    "ein.tags": "worksheet-0",
    "slideshow": {
     "slide_type": "-"
    }
   },
   "outputs": [],
   "source": [
    "mon_dico = {f\"clé {i}\": f\"valeur {i}\" for i in range(10)}\n",
    "mon_dico"
   ]
  },
  {
   "cell_type": "markdown",
   "metadata": {
    "ein.tags": "worksheet-0",
    "slideshow": {
     "slide_type": "-"
    }
   },
   "source": [
    "**Parcours d'un dictionnaire**\n",
    "\n",
    "Dans un _parcours_, il s'agit d'obtenir l'ensemble du contenu du dictionnaire ou du moins de l'ensemble des clés (qui donnent accès au valeurs).\n",
    "\n",
    "Avec une syntaxe analogue à celle des listes, on parcourt les clés :"
   ]
  },
  {
   "cell_type": "code",
   "execution_count": null,
   "metadata": {
    "autoscroll": false,
    "ein.hycell": false,
    "ein.tags": "worksheet-0",
    "slideshow": {
     "slide_type": "-"
    }
   },
   "outputs": [],
   "source": [
    "for e in mon_dico:\n",
    "    print(e)"
   ]
  },
  {
   "cell_type": "markdown",
   "metadata": {
    "ein.tags": "worksheet-0",
    "slideshow": {
     "slide_type": "-"
    }
   },
   "source": [
    "on peut aussi parcourir les dictionnaires en obtenant les tuples `(clé, valeur)` :"
   ]
  },
  {
   "cell_type": "code",
   "execution_count": null,
   "metadata": {
    "autoscroll": false,
    "ein.hycell": false,
    "ein.tags": "worksheet-0",
    "slideshow": {
     "slide_type": "-"
    }
   },
   "outputs": [],
   "source": [
    "for e in mon_dico.items():\n",
    "    print(e)"
   ]
  },
  {
   "cell_type": "markdown",
   "metadata": {},
   "source": [
    "avec ce parcours, on peut faire une affectation simultanée de la clé et de la valeur :"
   ]
  },
  {
   "cell_type": "code",
   "execution_count": null,
   "metadata": {},
   "outputs": [],
   "source": [
    "for k, v in mon_dico.items():\n",
    "    print(f\"{k} -> {v}\")"
   ]
  },
  {
   "cell_type": "markdown",
   "metadata": {
    "ein.tags": "worksheet-0",
    "slideshow": {
     "slide_type": "-"
    }
   },
   "source": [
    "Python autorise un parcours des valeurs :"
   ]
  },
  {
   "cell_type": "code",
   "execution_count": null,
   "metadata": {
    "autoscroll": false,
    "ein.hycell": false,
    "ein.tags": "worksheet-0",
    "slideshow": {
     "slide_type": "-"
    }
   },
   "outputs": [],
   "source": [
    "for e in mon_dico.values():\n",
    "    print(e)"
   ]
  },
  {
   "cell_type": "markdown",
   "metadata": {},
   "source": [
    "À savoir : depuis peu, Python garantit que l'affichage d'un dictionnaire ou son parcours se fait dans l'ordre dans lesquels les clés ont été introduites."
   ]
  },
  {
   "cell_type": "markdown",
   "metadata": {
    "ein.tags": "worksheet-0",
    "slideshow": {
     "slide_type": "-"
    }
   },
   "source": [
    "**Problème avec la copie**\n",
    "\n",
    "Comme pour les listes, l'utilisation de `deepcopy` du module `copy`\n",
    "permet de contourner le problème des structures tableaux imbriquées :"
   ]
  },
  {
   "cell_type": "code",
   "execution_count": null,
   "metadata": {
    "autoscroll": false,
    "ein.hycell": false,
    "ein.tags": "worksheet-0",
    "slideshow": {
     "slide_type": "-"
    }
   },
   "outputs": [],
   "source": [
    "d = {'ma_cle': [1, 2, 3]}\n",
    "e = d\n",
    "id(e) == id(d)"
   ]
  },
  {
   "cell_type": "code",
   "execution_count": null,
   "metadata": {
    "autoscroll": false,
    "ein.hycell": false,
    "ein.tags": "worksheet-0",
    "slideshow": {
     "slide_type": "-"
    }
   },
   "outputs": [],
   "source": [
    "# on copie pour avoir des id différents\n",
    "e = d.copy() # on peut aussi copier avec : e = dict(d)\n",
    "id(e) == id(d)"
   ]
  },
  {
   "cell_type": "code",
   "execution_count": null,
   "metadata": {
    "autoscroll": false,
    "ein.hycell": false,
    "ein.tags": "worksheet-0",
    "slideshow": {
     "slide_type": "-"
    }
   },
   "outputs": [],
   "source": [
    "# mais le tableau imbriquée possède la même adresse !\n",
    "id(e['ma_cle']) == id(d['ma_cle'])"
   ]
  },
  {
   "cell_type": "code",
   "execution_count": null,
   "metadata": {
    "autoscroll": false,
    "ein.hycell": false,
    "ein.tags": "worksheet-0",
    "slideshow": {
     "slide_type": "-"
    }
   },
   "outputs": [],
   "source": [
    "# la solution : utiliser le module copy\n",
    "import copy\n",
    "e = copy.deepcopy(d)\n",
    "\n",
    "id(e['ma_cle']) == id(d['ma_cle'])"
   ]
  },
  {
   "cell_type": "markdown",
   "metadata": {},
   "source": [
    "**COMPLEXITÉ**\n",
    "\n",
    "La complexité va dépendre en partie de l'implémentation (voir à la fin _Dans d'autres langages_).\n",
    "\n",
    "Dans la [doc officielle](https://wiki.python.org/moin/TimeComplexity) du langage Python :\n",
    "\n",
    " - insertion : en moyenne O(1), mais en pire cas O(n)\n",
    " - accès : en moyenne O(1), mais en pire cas O(n)\n",
    " - suppression : en moyenne O(1), mais en pire cas O(n)\n",
    " - recherche d'un élément par sa clé (`cle in dico`) : en moyenne O(1), mais en pire cas O(n)\n",
    " - parcours : O(n)"
   ]
  },
  {
   "cell_type": "markdown",
   "metadata": {},
   "source": [
    "**POUR ALLER PLUS LOIN**"
   ]
  },
  {
   "cell_type": "markdown",
   "metadata": {},
   "source": [
    "**Un dictionnaire n'est pas immutable.**\n",
    "\n",
    "On ne peut donc pas utiliser un dictionnaire comme clé d'un autre dictionnaire :"
   ]
  },
  {
   "cell_type": "code",
   "execution_count": null,
   "metadata": {},
   "outputs": [],
   "source": [
    "a = {}\n",
    "b = {a: 1}"
   ]
  },
  {
   "cell_type": "markdown",
   "metadata": {},
   "source": [
    "**Comment sont stockées en mémoire ces dictionnaires ?**\n",
    "\n",
    "L'erreur générée précédemment indique \"unhashable type\".\n",
    "\n",
    "Pour chaque clé, un nombre unique est généré, ce nombre permet alors un adressage mémoire à l'image d'un tableau indexé. Pour générer ce nombre unique, on utilise une fonction de hachage : cette fonction prend en entrée un contenu quelconque et produit en sortie un nombre.\n",
    "\n",
    "Une fonction de hachage assure au moins les 3 propriétés suivantes :\n",
    " - les calculs générant le nombre sont rapides ;\n",
    " - ils sont déterministes : deux contenus identiques donnent deux nombres identiques ;\n",
    " - ils produisent un nombre de longueur fixe.\n",
    "\n",
    "À partir du nombre, c'est impossible de retrouver le contenu correspondant (ce qui peut amener à d'autres usages de ces fonctions).\n",
    "\n",
    "Le contenu doit être \"hashable\" ce qui n'est pas le cas des listes.\n",
    "\n",
    "\n",
    "En Python, la fonction `hash` est directement utilisable et fournit une fonction de hachage ; la bibliothèque `hashlib` permet aussi d'utiliser des fonctions de hachage notamment les plus connues. "
   ]
  },
  {
   "cell_type": "code",
   "execution_count": 88,
   "metadata": {},
   "outputs": [
    {
     "data": {
      "text/plain": [
       "'a0c87b3a9a3f13c4dc2ce2abde4d7dd4a5fb2fd26af757ccfe22cf5ce4840ecf'"
      ]
     },
     "execution_count": 88,
     "metadata": {},
     "output_type": "execute_result"
    }
   ],
   "source": [
    "import hashlib\n",
    "\n",
    "# on crée un objet hashlib avec sha256 comme fonction\n",
    "a = hashlib.sha256()\n",
    "# on embarque le contenu sous format binaire\n",
    "a.update(b\"NSI\")\n",
    "# on obtient le nombre de sortie sous forme hexadécimale\n",
    "# ce nombre \"unique\" peut servir pour générer une adresse mémoire\n",
    "a.hexdigest()"
   ]
  },
  {
   "cell_type": "markdown",
   "metadata": {},
   "source": [
    "À la création d'un dictionnaire vide, l'interpréteur Python réserve des emplacements mémoires et quand 2/3 des emplacements réservés sont remplis, il réserve de nouveau d'autres emplacements.\n",
    "\n",
    "À la suppression d'un élément, il ne libère pas forcément la mémoire mais continue de réserver l'emplacement."
   ]
  },
  {
   "cell_type": "markdown",
   "metadata": {},
   "source": [
    "**Attaque par Denial Of Service**\n",
    "\n",
    "Il existe des cas de **collisions** : des contenus différents qui donnent le même nombre. Python est conçu pour repérer cette situation et fait des calculs supplémentaires pour la résoudre.\n",
    "\n",
    "Avant la version 3.3 de Python, il était possible d'élaborer une attaque DOS en envoyant, en masse, à l'interpréteur des cas de collisions ce qui bloquat finalement l'ordinateur cible de l'attaque."
   ]
  },
  {
   "cell_type": "markdown",
   "metadata": {},
   "source": [
    "**Comment s'assurer qu'une clé existe sans générer une erreur ?**\n",
    "\n",
    "Par exemple, on veut créer un nouveau dictionnaire à partir de couples `(clé, valeur)` existant dans un dictionnaire par défaut et d'un dictionnaire des choix fait par l'utilisateur (par exemple avec une interface graphique) :"
   ]
  },
  {
   "cell_type": "code",
   "execution_count": 84,
   "metadata": {},
   "outputs": [
    {
     "ename": "KeyError",
     "evalue": "'largeur'",
     "output_type": "error",
     "traceback": [
      "\u001b[0;31m-------------------------------------------------------\u001b[0m",
      "\u001b[0;31mKeyError\u001b[0m              Traceback (most recent call last)",
      "\u001b[0;32m<ipython-input-84-0c4aa8ab5b43>\u001b[0m in \u001b[0;36m<module>\u001b[0;34m\u001b[0m\n\u001b[1;32m      6\u001b[0m \u001b[0;32mfor\u001b[0m \u001b[0mcle\u001b[0m \u001b[0;32min\u001b[0m \u001b[0moptions_par_defaut\u001b[0m\u001b[0;34m:\u001b[0m\u001b[0;34m\u001b[0m\u001b[0;34m\u001b[0m\u001b[0m\n\u001b[1;32m      7\u001b[0m     \u001b[0moptions_finales_a_appliquer\u001b[0m\u001b[0;34m[\u001b[0m\u001b[0mcle\u001b[0m\u001b[0;34m]\u001b[0m \u001b[0;34m=\u001b[0m \u001b[0moptions_selectionnées_utilisateur\u001b[0m\u001b[0;34m[\u001b[0m\u001b[0mcle\u001b[0m\u001b[0;34m]\u001b[0m\u001b[0;31m \u001b[0m\u001b[0;31m\\\u001b[0m\u001b[0;34m\u001b[0m\u001b[0;34m\u001b[0m\u001b[0m\n\u001b[0;32m----> 8\u001b[0;31m         \u001b[0;32mif\u001b[0m \u001b[0moptions_selectionnées_utilisateur\u001b[0m\u001b[0;34m[\u001b[0m\u001b[0mcle\u001b[0m\u001b[0;34m]\u001b[0m \u001b[0;32mis\u001b[0m \u001b[0;32mnot\u001b[0m \u001b[0;32mNone\u001b[0m \u001b[0;32melse\u001b[0m \u001b[0moptions_par_defaut\u001b[0m\u001b[0;34m[\u001b[0m\u001b[0mcle\u001b[0m\u001b[0;34m]\u001b[0m\u001b[0;34m\u001b[0m\u001b[0;34m\u001b[0m\u001b[0m\n\u001b[0m\u001b[1;32m      9\u001b[0m \u001b[0;34m\u001b[0m\u001b[0m\n\u001b[1;32m     10\u001b[0m \u001b[0moptions_finales_a_appliquer\u001b[0m\u001b[0;34m\u001b[0m\u001b[0;34m\u001b[0m\u001b[0m\n",
      "\u001b[0;31mKeyError\u001b[0m: 'largeur'"
     ]
    }
   ],
   "source": [
    "options_par_defaut = {\"couleur\": \"#f00\", \"largeur\": 15 , \"hauteur\": 30, \"taille_police\": 12}\n",
    "options_selectionnées_utilisateur = {\"couleur\": \"#abcdef\"}\n",
    "\n",
    "options_finales_a_appliquer = {}\n",
    "\n",
    "for cle in options_par_defaut:\n",
    "    options_finales_a_appliquer[cle] = options_selectionnées_utilisateur[cle] \\\n",
    "        if options_selectionnées_utilisateur[cle] is not None else options_par_defaut[cle]\n",
    "    \n",
    "options_finales_a_appliquer"
   ]
  },
  {
   "cell_type": "markdown",
   "metadata": {},
   "source": [
    "Le problème réside dans l'évaluation de `options_selectionnées_utilisateur[cle]` sans savoir si le dictionnaire contient cette clé.\n",
    "\n",
    "On peut donc d'abord tester si le dictionnaire contient la clé :"
   ]
  },
  {
   "cell_type": "code",
   "execution_count": null,
   "metadata": {},
   "outputs": [],
   "source": [
    "options_par_defaut = {\"couleur\": \"#f00\", \"largeur\": 15 , \"hauteur\": 30, \"taille_police\": 12}\n",
    "options_selectionnées_utilisateur = {\"couleur\": \"#abcdef\"}\n",
    "\n",
    "options_finales_a_appliquer = {}\n",
    "\n",
    "for cle in options_par_defaut:\n",
    "    if cle in options_selectionnées_utilisateur:\n",
    "        options_finales_a_appliquer[cle] = options_selectionnées_utilisateur[cle]\n",
    "    else:\n",
    "        options_finales_a_appliquer[cle] = options_par_defaut[cle]\n",
    "        \n",
    "options_finales_a_appliquer"
   ]
  },
  {
   "cell_type": "markdown",
   "metadata": {},
   "source": [
    "Python dispose de la méthode `update` qui permet de mettre à jour les valeurs d'un dictionnaire à partir d'un autre :"
   ]
  },
  {
   "cell_type": "code",
   "execution_count": null,
   "metadata": {},
   "outputs": [],
   "source": [
    "options_par_defaut = {\"couleur\": \"#f00\", \"largeur\": 15 , \"hauteur\": 30, \"taille_police\": 12}\n",
    "options_selectionnées_utilisateur = {\"couleur\": \"#abcdef\"}\n",
    "\n",
    "options_par_defaut.update(options_selectionnées_utilisateur)\n",
    "options_par_defaut"
   ]
  },
  {
   "cell_type": "markdown",
   "metadata": {},
   "source": [
    "Mais cela modifie le dictionnaire par défaut... à moins de `deepcopier` le dictionnaire avant.\n",
    "\n",
    "Néanmoins, Python dispose d'un mécanisme simplifié qui permet de récupérer la valeur dans un dictionnaire si la clé existe et de piocher dans un autre sinon :"
   ]
  },
  {
   "cell_type": "code",
   "execution_count": 87,
   "metadata": {},
   "outputs": [
    {
     "data": {
      "text/plain": [
       "{'couleur': '#abcdef', 'largeur': 15, 'hauteur': 30, 'taille_police': 12}"
      ]
     },
     "execution_count": 87,
     "metadata": {},
     "output_type": "execute_result"
    }
   ],
   "source": [
    "options_par_defaut = {\"couleur\": \"#f00\", \"largeur\": 15 , \"hauteur\": 30, \"taille_police\": 12}\n",
    "options_selectionnées_utilisateur = {\"couleur\": \"#abcdef\"}\n",
    "\n",
    "options_finales_a_appliquer = {}\n",
    "\n",
    "for cle in options_par_defaut:\n",
    "    options_finales_a_appliquer[cle] = options_selectionnées_utilisateur.get(cle, options_par_defaut[cle])\n",
    "    \n",
    "options_finales_a_appliquer"
   ]
  },
  {
   "cell_type": "markdown",
   "metadata": {},
   "source": [
    "**Dans d'autres langages**\n",
    "\n",
    "Les dictionnaires sont très pratiques mais ne sont pas nativement implémentées dans tous les langages."
   ]
  },
  {
   "cell_type": "markdown",
   "metadata": {},
   "source": [
    "**en OCamL**\n",
    "\n",
    "Il n'y a pas à proprement parler de type dictionnaire mais on peut construire des listes de couples : les listes d'associations."
   ]
  },
  {
   "cell_type": "markdown",
   "metadata": {},
   "source": [
    "**en Javascript et en C**\n",
    "\n",
    "Il n'existe pas nativement une telle structure, mais on peut trouver sur Internet des façons de l'implémenter."
   ]
  },
  {
   "cell_type": "markdown",
   "metadata": {},
   "source": [
    "**en Lua**\n",
    "\n",
    "Les tableaux en Lua sont par définition associatifs, donc sont un mix entre listes et dictionnaires. Lua dispose donc de fonctions spéciales pour les parcours."
   ]
  }
 ],
 "metadata": {
  "kernelspec": {
   "display_name": "Python 3",
   "language": "python",
   "name": "python3"
  },
  "language_info": {
   "codemirror_mode": {
    "name": "ipython",
    "version": 3
   },
   "file_extension": ".py",
   "mimetype": "text/x-python",
   "name": "python",
   "nbconvert_exporter": "python",
   "pygments_lexer": "ipython3",
   "version": "3.9.2"
  },
  "name": "preparation_nsi_premiere_vocal_2.ipynb"
 },
 "nbformat": 4,
 "nbformat_minor": 4
}
